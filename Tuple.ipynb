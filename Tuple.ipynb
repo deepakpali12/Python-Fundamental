{
 "cells": [
  {
   "cell_type": "code",
   "execution_count": null,
   "metadata": {
    "id": "QF3q98MvfcxO"
   },
   "outputs": [],
   "source": [
    "# Tuples are used to store multiple items in a single variable."
   ]
  },
  {
   "cell_type": "code",
   "execution_count": null,
   "metadata": {
    "id": "al6bFVuogRJZ"
   },
   "outputs": [],
   "source": [
    "t1=(1,2,3,4,5)"
   ]
  },
  {
   "cell_type": "code",
   "execution_count": null,
   "metadata": {
    "colab": {
     "base_uri": "https://localhost:8080/"
    },
    "executionInfo": {
     "elapsed": 3,
     "status": "ok",
     "timestamp": 1711946171426,
     "user": {
      "displayName": "Nitish Patil",
      "userId": "09015625618145133422"
     },
     "user_tz": -330
    },
    "id": "V9qzUe7rhIeB",
    "outputId": "d8a0bc92-e4cf-4db5-edd6-232d7f348270"
   },
   "outputs": [
    {
     "name": "stdout",
     "output_type": "stream",
     "text": [
      "(1, 2, 3, 4, 5)\n"
     ]
    }
   ],
   "source": [
    "print(t1)"
   ]
  },
  {
   "cell_type": "code",
   "execution_count": null,
   "metadata": {
    "colab": {
     "base_uri": "https://localhost:8080/"
    },
    "executionInfo": {
     "elapsed": 408,
     "status": "ok",
     "timestamp": 1711946179339,
     "user": {
      "displayName": "Nitish Patil",
      "userId": "09015625618145133422"
     },
     "user_tz": -330
    },
    "id": "eCqoFvbnhJ4p",
    "outputId": "1be29512-e1f3-4d80-ac5e-7a1144930066"
   },
   "outputs": [
    {
     "name": "stdout",
     "output_type": "stream",
     "text": [
      "<class 'tuple'>\n"
     ]
    }
   ],
   "source": [
    "print(type(t1))"
   ]
  },
  {
   "cell_type": "code",
   "execution_count": null,
   "metadata": {
    "colab": {
     "base_uri": "https://localhost:8080/"
    },
    "executionInfo": {
     "elapsed": 7,
     "status": "ok",
     "timestamp": 1711519636182,
     "user": {
      "displayName": "Nitish Patil",
      "userId": "09015625618145133422"
     },
     "user_tz": -330
    },
    "id": "n8pf6kEGhN6Z",
    "outputId": "b5a55f12-84f3-4116-908f-241d4be94d59"
   },
   "outputs": [
    {
     "name": "stdout",
     "output_type": "stream",
     "text": [
      "5\n"
     ]
    }
   ],
   "source": [
    "print(len(t1))"
   ]
  },
  {
   "cell_type": "code",
   "execution_count": null,
   "metadata": {
    "id": "9rDxFpYrhROJ"
   },
   "outputs": [],
   "source": [
    "t2=(\"A\",\"B\",\"C\",\"D\",\"E\")"
   ]
  },
  {
   "cell_type": "code",
   "execution_count": null,
   "metadata": {
    "colab": {
     "base_uri": "https://localhost:8080/"
    },
    "executionInfo": {
     "elapsed": 7,
     "status": "ok",
     "timestamp": 1711946759747,
     "user": {
      "displayName": "Nitish Patil",
      "userId": "09015625618145133422"
     },
     "user_tz": -330
    },
    "id": "L5ek7y3hiCVZ",
    "outputId": "2684eb21-96f6-407e-b9b9-8661d4469d89"
   },
   "outputs": [
    {
     "name": "stdout",
     "output_type": "stream",
     "text": [
      "('A', 'B', 'C', 'D', 'E')\n"
     ]
    }
   ],
   "source": [
    "print(t2)"
   ]
  },
  {
   "cell_type": "code",
   "execution_count": null,
   "metadata": {
    "colab": {
     "base_uri": "https://localhost:8080/"
    },
    "executionInfo": {
     "elapsed": 5,
     "status": "ok",
     "timestamp": 1711519896777,
     "user": {
      "displayName": "Nitish Patil",
      "userId": "09015625618145133422"
     },
     "user_tz": -330
    },
    "id": "Mpz_keWmiKzJ",
    "outputId": "7e54b39b-01d3-4b0f-8d0d-4a7a346db894"
   },
   "outputs": [
    {
     "data": {
      "text/plain": [
       "4"
      ]
     },
     "execution_count": 9,
     "metadata": {},
     "output_type": "execute_result"
    }
   ],
   "source": [
    "# Access Elements in Tuple\n",
    "t1[3]"
   ]
  },
  {
   "cell_type": "code",
   "execution_count": null,
   "metadata": {
    "colab": {
     "base_uri": "https://localhost:8080/"
    },
    "executionInfo": {
     "elapsed": 457,
     "status": "ok",
     "timestamp": 1711946428734,
     "user": {
      "displayName": "Nitish Patil",
      "userId": "09015625618145133422"
     },
     "user_tz": -330
    },
    "id": "LBpUFTQDiQ1J",
    "outputId": "f963944b-5eaa-48ab-8bef-6ba8f8f35f9b"
   },
   "outputs": [
    {
     "data": {
      "text/plain": [
       "(2, 3)"
      ]
     },
     "execution_count": 7,
     "metadata": {},
     "output_type": "execute_result"
    }
   ],
   "source": [
    "t1[1:3]"
   ]
  },
  {
   "cell_type": "code",
   "execution_count": null,
   "metadata": {
    "colab": {
     "base_uri": "https://localhost:8080/"
    },
    "executionInfo": {
     "elapsed": 6,
     "status": "ok",
     "timestamp": 1711946497883,
     "user": {
      "displayName": "Nitish Patil",
      "userId": "09015625618145133422"
     },
     "user_tz": -330
    },
    "id": "gzb2_AW19QbI",
    "outputId": "886aa592-273f-4910-ebfb-08b46c29eeeb"
   },
   "outputs": [
    {
     "data": {
      "text/plain": [
       "(3, 4, 5)"
      ]
     },
     "execution_count": 8,
     "metadata": {},
     "output_type": "execute_result"
    }
   ],
   "source": [
    "t1[2:]"
   ]
  },
  {
   "cell_type": "code",
   "execution_count": null,
   "metadata": {
    "colab": {
     "base_uri": "https://localhost:8080/"
    },
    "executionInfo": {
     "elapsed": 3,
     "status": "ok",
     "timestamp": 1711946526121,
     "user": {
      "displayName": "Nitish Patil",
      "userId": "09015625618145133422"
     },
     "user_tz": -330
    },
    "id": "n8QiYghF9nnR",
    "outputId": "488613b9-20c5-45fa-d606-616a10224109"
   },
   "outputs": [
    {
     "data": {
      "text/plain": [
       "(3, 4, 5)"
      ]
     },
     "execution_count": 10,
     "metadata": {},
     "output_type": "execute_result"
    }
   ],
   "source": [
    "t1[2:6]"
   ]
  },
  {
   "cell_type": "code",
   "execution_count": null,
   "metadata": {
    "colab": {
     "base_uri": "https://localhost:8080/"
    },
    "executionInfo": {
     "elapsed": 6,
     "status": "ok",
     "timestamp": 1711946570584,
     "user": {
      "displayName": "Nitish Patil",
      "userId": "09015625618145133422"
     },
     "user_tz": -330
    },
    "id": "L9J-NrF-9rp_",
    "outputId": "710ede97-2767-46c3-84bc-769da0e716ed"
   },
   "outputs": [
    {
     "data": {
      "text/plain": [
       "(1, 2, 3)"
      ]
     },
     "execution_count": 11,
     "metadata": {},
     "output_type": "execute_result"
    }
   ],
   "source": [
    "t1[0:3]"
   ]
  },
  {
   "cell_type": "code",
   "execution_count": null,
   "metadata": {
    "colab": {
     "base_uri": "https://localhost:8080/"
    },
    "executionInfo": {
     "elapsed": 5,
     "status": "ok",
     "timestamp": 1711946582192,
     "user": {
      "displayName": "Nitish Patil",
      "userId": "09015625618145133422"
     },
     "user_tz": -330
    },
    "id": "7z9pEMFZ95iH",
    "outputId": "744ee403-50c9-403c-b358-af5c70c07e21"
   },
   "outputs": [
    {
     "data": {
      "text/plain": [
       "(1, 2, 3)"
      ]
     },
     "execution_count": 12,
     "metadata": {},
     "output_type": "execute_result"
    }
   ],
   "source": [
    "t1[:3]"
   ]
  },
  {
   "cell_type": "code",
   "execution_count": null,
   "metadata": {
    "colab": {
     "base_uri": "https://localhost:8080/"
    },
    "executionInfo": {
     "elapsed": 5,
     "status": "ok",
     "timestamp": 1711946864480,
     "user": {
      "displayName": "Nitish Patil",
      "userId": "09015625618145133422"
     },
     "user_tz": -330
    },
    "id": "5NytL7ws98Mn",
    "outputId": "c5588385-ae06-4cea-de58-f50f6b0e2de0"
   },
   "outputs": [
    {
     "data": {
      "text/plain": [
       "('C', 'D')"
      ]
     },
     "execution_count": 16,
     "metadata": {},
     "output_type": "execute_result"
    }
   ],
   "source": [
    "t2[-3:-1]"
   ]
  },
  {
   "cell_type": "code",
   "execution_count": null,
   "metadata": {
    "colab": {
     "base_uri": "https://localhost:8080/"
    },
    "executionInfo": {
     "elapsed": 3,
     "status": "ok",
     "timestamp": 1711946919826,
     "user": {
      "displayName": "Nitish Patil",
      "userId": "09015625618145133422"
     },
     "user_tz": -330
    },
    "id": "0dywmo1__BIM",
    "outputId": "9936a2bd-ca8f-445d-cb12-6e05fac18a4f"
   },
   "outputs": [
    {
     "data": {
      "text/plain": [
       "('B', 'C', 'D', 'E')"
      ]
     },
     "execution_count": 17,
     "metadata": {},
     "output_type": "execute_result"
    }
   ],
   "source": [
    "t2[-4:]"
   ]
  },
  {
   "cell_type": "code",
   "execution_count": null,
   "metadata": {
    "colab": {
     "base_uri": "https://localhost:8080/"
    },
    "executionInfo": {
     "elapsed": 3,
     "status": "ok",
     "timestamp": 1711947484648,
     "user": {
      "displayName": "Nitish Patil",
      "userId": "09015625618145133422"
     },
     "user_tz": -330
    },
    "id": "cQH92Xgl_Ooz",
    "outputId": "88eeebf7-8c85-4041-8d75-6d0910c50510"
   },
   "outputs": [
    {
     "data": {
      "text/plain": [
       "('E', 'D', 'C', 'B', 'A')"
      ]
     },
     "execution_count": 18,
     "metadata": {},
     "output_type": "execute_result"
    }
   ],
   "source": [
    "t2[::-1]"
   ]
  },
  {
   "cell_type": "code",
   "execution_count": null,
   "metadata": {
    "id": "aQbgOSMkB64_"
   },
   "outputs": [],
   "source": [
    "t2=(\"A\",\"B\",\"C\",\"D\",\"E\")\n",
    "y=list(t2)"
   ]
  },
  {
   "cell_type": "code",
   "execution_count": null,
   "metadata": {
    "colab": {
     "base_uri": "https://localhost:8080/"
    },
    "executionInfo": {
     "elapsed": 4,
     "status": "ok",
     "timestamp": 1711947719856,
     "user": {
      "displayName": "Nitish Patil",
      "userId": "09015625618145133422"
     },
     "user_tz": -330
    },
    "id": "KYo4I2WLCOVg",
    "outputId": "83cadbcd-92ec-4bc1-e531-edb856017a2f"
   },
   "outputs": [
    {
     "name": "stdout",
     "output_type": "stream",
     "text": [
      "<class 'list'>\n"
     ]
    }
   ],
   "source": [
    "print(type(y))"
   ]
  },
  {
   "cell_type": "code",
   "execution_count": null,
   "metadata": {
    "id": "aiGqcdjyCR8n"
   },
   "outputs": [],
   "source": [
    "y[2]=11"
   ]
  },
  {
   "cell_type": "code",
   "execution_count": null,
   "metadata": {
    "id": "URjmSpKqCWaA"
   },
   "outputs": [],
   "source": [
    "t2=tuple(y)"
   ]
  },
  {
   "cell_type": "code",
   "execution_count": null,
   "metadata": {
    "colab": {
     "base_uri": "https://localhost:8080/"
    },
    "executionInfo": {
     "elapsed": 3,
     "status": "ok",
     "timestamp": 1711947778203,
     "user": {
      "displayName": "Nitish Patil",
      "userId": "09015625618145133422"
     },
     "user_tz": -330
    },
    "id": "VambxdQlCeWC",
    "outputId": "244ff49d-0887-4df5-c6f9-8251bd817070"
   },
   "outputs": [
    {
     "data": {
      "text/plain": [
       "('A', 'B', 11, 'D', 'E')"
      ]
     },
     "execution_count": 25,
     "metadata": {},
     "output_type": "execute_result"
    }
   ],
   "source": [
    "t2"
   ]
  },
  {
   "cell_type": "code",
   "execution_count": null,
   "metadata": {
    "id": "NLWN7slvCgRK"
   },
   "outputs": [],
   "source": [
    "z=list(t2)"
   ]
  },
  {
   "cell_type": "code",
   "execution_count": null,
   "metadata": {
    "id": "rP4MFvWiEp3y"
   },
   "outputs": [],
   "source": [
    "z.append(6)"
   ]
  },
  {
   "cell_type": "code",
   "execution_count": null,
   "metadata": {
    "colab": {
     "base_uri": "https://localhost:8080/"
    },
    "executionInfo": {
     "elapsed": 6,
     "status": "ok",
     "timestamp": 1711948369947,
     "user": {
      "displayName": "Nitish Patil",
      "userId": "09015625618145133422"
     },
     "user_tz": -330
    },
    "id": "No1diGPLEvkQ",
    "outputId": "ac294cc3-d7d5-46ba-df87-c2ba838bf3b1"
   },
   "outputs": [
    {
     "data": {
      "text/plain": [
       "['A', 'B', 11, 'D', 'E', 6]"
      ]
     },
     "execution_count": 28,
     "metadata": {},
     "output_type": "execute_result"
    }
   ],
   "source": [
    "z"
   ]
  },
  {
   "cell_type": "code",
   "execution_count": null,
   "metadata": {
    "id": "AfDVG2YYEwqN"
   },
   "outputs": [],
   "source": [
    "t2=tuple(z)"
   ]
  },
  {
   "cell_type": "code",
   "execution_count": null,
   "metadata": {
    "colab": {
     "base_uri": "https://localhost:8080/"
    },
    "executionInfo": {
     "elapsed": 3,
     "status": "ok",
     "timestamp": 1711948417950,
     "user": {
      "displayName": "Nitish Patil",
      "userId": "09015625618145133422"
     },
     "user_tz": -330
    },
    "id": "BkeVcOkpE6md",
    "outputId": "6e1071d7-9edf-4c7b-cf98-c96bd40070f4"
   },
   "outputs": [
    {
     "data": {
      "text/plain": [
       "('A', 'B', 11, 'D', 'E', 6)"
      ]
     },
     "execution_count": 30,
     "metadata": {},
     "output_type": "execute_result"
    }
   ],
   "source": [
    "t2\n"
   ]
  },
  {
   "cell_type": "code",
   "execution_count": null,
   "metadata": {
    "id": "DiaTYrnBE8X1"
   },
   "outputs": [],
   "source": [
    "# Addition of Tuples\n",
    "\n",
    "tuple_add1=(7,)"
   ]
  },
  {
   "cell_type": "code",
   "execution_count": null,
   "metadata": {
    "id": "YHqdvRRgFwgA"
   },
   "outputs": [],
   "source": [
    "tuple_add2=(5,6,8,9)"
   ]
  },
  {
   "cell_type": "code",
   "execution_count": null,
   "metadata": {
    "id": "zgNZ6RaNF9Ar"
   },
   "outputs": [],
   "source": [
    "tuple_add1=tuple_add1+tuple_add2"
   ]
  },
  {
   "cell_type": "code",
   "execution_count": null,
   "metadata": {
    "colab": {
     "base_uri": "https://localhost:8080/"
    },
    "executionInfo": {
     "elapsed": 2,
     "status": "ok",
     "timestamp": 1711948763745,
     "user": {
      "displayName": "Nitish Patil",
      "userId": "09015625618145133422"
     },
     "user_tz": -330
    },
    "id": "Pi-Vlwz-GI4L",
    "outputId": "55f12c65-8ad9-45b8-dce2-e3f8315c639f"
   },
   "outputs": [
    {
     "data": {
      "text/plain": [
       "(7, 5, 6, 8, 9)"
      ]
     },
     "execution_count": 41,
     "metadata": {},
     "output_type": "execute_result"
    }
   ],
   "source": [
    "tuple_add1"
   ]
  },
  {
   "cell_type": "code",
   "execution_count": null,
   "metadata": {
    "id": "13NUf1PIGQyh"
   },
   "outputs": [],
   "source": [
    "# Remove items in tuple\n",
    "h=list(t2)"
   ]
  },
  {
   "cell_type": "code",
   "execution_count": null,
   "metadata": {
    "colab": {
     "base_uri": "https://localhost:8080/"
    },
    "executionInfo": {
     "elapsed": 4,
     "status": "ok",
     "timestamp": 1711949138809,
     "user": {
      "displayName": "Nitish Patil",
      "userId": "09015625618145133422"
     },
     "user_tz": -330
    },
    "id": "FXS11G9dHqnR",
    "outputId": "0f3af792-f47a-4dae-d555-78c6f3a0f937"
   },
   "outputs": [
    {
     "data": {
      "text/plain": [
       "('A', 'B', 11, 'D', 'E', 6)"
      ]
     },
     "execution_count": 43,
     "metadata": {},
     "output_type": "execute_result"
    }
   ],
   "source": [
    "t2"
   ]
  },
  {
   "cell_type": "code",
   "execution_count": null,
   "metadata": {
    "id": "avx7Wm4uHsRS"
   },
   "outputs": [],
   "source": [
    "h.remove(11)"
   ]
  },
  {
   "cell_type": "code",
   "execution_count": null,
   "metadata": {
    "colab": {
     "base_uri": "https://localhost:8080/"
    },
    "executionInfo": {
     "elapsed": 4,
     "status": "ok",
     "timestamp": 1711949216672,
     "user": {
      "displayName": "Nitish Patil",
      "userId": "09015625618145133422"
     },
     "user_tz": -330
    },
    "id": "QpFpfhtbH18Z",
    "outputId": "c847f7f3-ce54-4427-fd83-44017c6f177b"
   },
   "outputs": [
    {
     "data": {
      "text/plain": [
       "['A', 'B', 'D', 'E', 6]"
      ]
     },
     "execution_count": 46,
     "metadata": {},
     "output_type": "execute_result"
    }
   ],
   "source": [
    "h"
   ]
  },
  {
   "cell_type": "code",
   "execution_count": null,
   "metadata": {
    "id": "GvmaUor1H_YZ"
   },
   "outputs": [],
   "source": [
    "t2=tuple(h)"
   ]
  },
  {
   "cell_type": "code",
   "execution_count": null,
   "metadata": {
    "colab": {
     "base_uri": "https://localhost:8080/"
    },
    "executionInfo": {
     "elapsed": 3,
     "status": "ok",
     "timestamp": 1711949237356,
     "user": {
      "displayName": "Nitish Patil",
      "userId": "09015625618145133422"
     },
     "user_tz": -330
    },
    "id": "_2VAevKKIDWZ",
    "outputId": "37bc173a-dc5b-4fae-8b6c-5ce474acafd9"
   },
   "outputs": [
    {
     "data": {
      "text/plain": [
       "('A', 'B', 'D', 'E', 6)"
      ]
     },
     "execution_count": 48,
     "metadata": {},
     "output_type": "execute_result"
    }
   ],
   "source": [
    "t2"
   ]
  },
  {
   "cell_type": "code",
   "execution_count": 1,
   "metadata": {
    "executionInfo": {
     "elapsed": 4,
     "status": "ok",
     "timestamp": 1712041974588,
     "user": {
      "displayName": "Nitish Patil",
      "userId": "09015625618145133422"
     },
     "user_tz": -330
    },
    "id": "LH5xGghjIEU5"
   },
   "outputs": [],
   "source": [
    "t11=(1,2,3)\n",
    "t12=t11*2"
   ]
  },
  {
   "cell_type": "code",
   "execution_count": 2,
   "metadata": {
    "colab": {
     "base_uri": "https://localhost:8080/"
    },
    "executionInfo": {
     "elapsed": 3,
     "status": "ok",
     "timestamp": 1712041984244,
     "user": {
      "displayName": "Nitish Patil",
      "userId": "09015625618145133422"
     },
     "user_tz": -330
    },
    "id": "61Sxjvsnpw1O",
    "outputId": "a01cc406-1223-4ff9-ea44-fa8c26a33af9"
   },
   "outputs": [
    {
     "data": {
      "text/plain": [
       "(1, 2, 3, 1, 2, 3)"
      ]
     },
     "execution_count": 2,
     "metadata": {},
     "output_type": "execute_result"
    }
   ],
   "source": [
    "t12"
   ]
  },
  {
   "cell_type": "code",
   "execution_count": null,
   "metadata": {
    "id": "QLpd61E7p2mL"
   },
   "outputs": [],
   "source": []
  }
 ],
 "metadata": {
  "colab": {
   "authorship_tag": "ABX9TyM27c8NGzcNuVu5YOMklch6",
   "provenance": []
  },
  "kernelspec": {
   "display_name": "Python 3",
   "name": "python3"
  },
  "language_info": {
   "name": "python"
  }
 },
 "nbformat": 4,
 "nbformat_minor": 0
}
