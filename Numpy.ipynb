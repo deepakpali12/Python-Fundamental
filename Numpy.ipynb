{
 "cells": [
  {
   "cell_type": "code",
   "execution_count": 2,
   "metadata": {
    "colab": {
     "base_uri": "https://localhost:8080/"
    },
    "executionInfo": {
     "elapsed": 420,
     "status": "ok",
     "timestamp": 1715752368013,
     "user": {
      "displayName": "Nitish Patil",
      "userId": "09015625618145133422"
     },
     "user_tz": -330
    },
    "id": "wWHRGfzYzK0N",
    "outputId": "7ed1db9d-1b7a-49ba-b1ff-5b402d3f8f60"
   },
   "outputs": [
    {
     "name": "stdout",
     "output_type": "stream",
     "text": [
      "[array([1, 2, 3]), array([4, 5, 6])]\n"
     ]
    }
   ],
   "source": [
    "# Array Split\n",
    "import numpy as np\n",
    "arr= np.array([1,2,3,4,5,6])\n",
    "new_arr= np.array_split(arr,2)\n",
    "print(new_arr)"
   ]
  },
  {
   "cell_type": "code",
   "execution_count": 3,
   "metadata": {
    "colab": {
     "base_uri": "https://localhost:8080/"
    },
    "executionInfo": {
     "elapsed": 3,
     "status": "ok",
     "timestamp": 1715752386412,
     "user": {
      "displayName": "Nitish Patil",
      "userId": "09015625618145133422"
     },
     "user_tz": -330
    },
    "id": "o9SHTYhCzuQQ",
    "outputId": "a5b35384-0b29-45e2-d592-fa921e7bb11c"
   },
   "outputs": [
    {
     "name": "stdout",
     "output_type": "stream",
     "text": [
      "[array([1, 2]), array([3, 4]), array([5, 6])]\n"
     ]
    }
   ],
   "source": [
    "import numpy as np\n",
    "arr= np.array([1,2,3,4,5,6])\n",
    "new_arr= np.array_split(arr,3)\n",
    "print(new_arr)"
   ]
  },
  {
   "cell_type": "code",
   "execution_count": 4,
   "metadata": {
    "colab": {
     "base_uri": "https://localhost:8080/"
    },
    "executionInfo": {
     "elapsed": 4,
     "status": "ok",
     "timestamp": 1715752402259,
     "user": {
      "displayName": "Nitish Patil",
      "userId": "09015625618145133422"
     },
     "user_tz": -330
    },
    "id": "GN7boR_xz7vd",
    "outputId": "92f3d64d-1895-4254-ce6d-a7c0705ff707"
   },
   "outputs": [
    {
     "name": "stdout",
     "output_type": "stream",
     "text": [
      "[array([1, 2]), array([3, 4]), array([5]), array([6])]\n"
     ]
    }
   ],
   "source": [
    "import numpy as np\n",
    "arr= np.array([1,2,3,4,5,6])\n",
    "new_arr= np.array_split(arr,4)\n",
    "print(new_arr)"
   ]
  },
  {
   "cell_type": "code",
   "execution_count": null,
   "metadata": {
    "colab": {
     "base_uri": "https://localhost:8080/"
    },
    "executionInfo": {
     "elapsed": 426,
     "status": "ok",
     "timestamp": 1715752514075,
     "user": {
      "displayName": "Nitish Patil",
      "userId": "09015625618145133422"
     },
     "user_tz": -330
    },
    "id": "6w5UPeUhz_fm",
    "outputId": "58905dce-7236-4aa0-adee-61f8f54d504e"
   },
   "outputs": [
    {
     "name": "stdout",
     "output_type": "stream",
     "text": [
      "[array([[1, 2],\n",
      "       [3, 4]]), array([[5, 6],\n",
      "       [7, 8]]), array([[ 9, 10],\n",
      "       [11, 12]])]\n"
     ]
    }
   ],
   "source": [
    "import numpy as np\n",
    "arr = np.array([[1, 2], [3, 4], [5, 6], [7, 8], [9, 10], [11, 12]])\n",
    "newarr = np.array_split(arr, 3)\n",
    "print(newarr)"
   ]
  },
  {
   "cell_type": "code",
   "execution_count": null,
   "metadata": {
    "executionInfo": {
     "elapsed": 3,
     "status": "ok",
     "timestamp": 1715752855854,
     "user": {
      "displayName": "Nitish Patil",
      "userId": "09015625618145133422"
     },
     "user_tz": -330
    },
    "id": "dcNYIpc-0axH"
   },
   "outputs": [],
   "source": [
    "# Searching Arrays"
   ]
  },
  {
   "cell_type": "code",
   "execution_count": null,
   "metadata": {
    "colab": {
     "base_uri": "https://localhost:8080/"
    },
    "executionInfo": {
     "elapsed": 418,
     "status": "ok",
     "timestamp": 1715752869966,
     "user": {
      "displayName": "Nitish Patil",
      "userId": "09015625618145133422"
     },
     "user_tz": -330
    },
    "id": "n8QX63l-1uMu",
    "outputId": "4cc6ac1f-479e-4f7b-abf7-641f3d17f9f2"
   },
   "outputs": [
    {
     "name": "stdout",
     "output_type": "stream",
     "text": [
      "(array([3, 5, 6]),)\n"
     ]
    }
   ],
   "source": [
    "import numpy as np\n",
    "arr = np.array([1, 2, 3, 4, 5, 4, 4])\n",
    "x = np.where(arr == 4)\n",
    "print(x)"
   ]
  },
  {
   "cell_type": "code",
   "execution_count": null,
   "metadata": {
    "colab": {
     "base_uri": "https://localhost:8080/"
    },
    "executionInfo": {
     "elapsed": 5,
     "status": "ok",
     "timestamp": 1715752889856,
     "user": {
      "displayName": "Nitish Patil",
      "userId": "09015625618145133422"
     },
     "user_tz": -330
    },
    "id": "GVLY0UpT1xp1",
    "outputId": "3f4408ea-d328-4277-a7d8-f55315bf299c"
   },
   "outputs": [
    {
     "name": "stdout",
     "output_type": "stream",
     "text": [
      "(array([1, 3, 5, 7]),)\n"
     ]
    }
   ],
   "source": [
    "import numpy as np\n",
    "arr = np.array([1, 2, 3, 4, 5, 6, 7, 8])\n",
    "x = np.where(arr%2 == 0)\n",
    "print(x)"
   ]
  },
  {
   "cell_type": "code",
   "execution_count": null,
   "metadata": {
    "colab": {
     "base_uri": "https://localhost:8080/"
    },
    "executionInfo": {
     "elapsed": 4,
     "status": "ok",
     "timestamp": 1715752917317,
     "user": {
      "displayName": "Nitish Patil",
      "userId": "09015625618145133422"
     },
     "user_tz": -330
    },
    "id": "emTddOFB12e0",
    "outputId": "44314884-7e34-46a8-f4be-0678c2fab17d"
   },
   "outputs": [
    {
     "name": "stdout",
     "output_type": "stream",
     "text": [
      "(array([0, 2, 4, 6]),)\n"
     ]
    }
   ],
   "source": [
    "import numpy as np\n",
    "arr = np.array([1, 2, 3, 4, 5, 6, 7, 8])\n",
    "x = np.where(arr%2 == 1)\n",
    "print(x)"
   ]
  },
  {
   "cell_type": "code",
   "execution_count": 10,
   "metadata": {
    "executionInfo": {
     "elapsed": 4,
     "status": "ok",
     "timestamp": 1715753083823,
     "user": {
      "displayName": "Nitish Patil",
      "userId": "09015625618145133422"
     },
     "user_tz": -330
    },
    "id": "5bBQ5sZT19Ol"
   },
   "outputs": [],
   "source": [
    "# Sorting methods"
   ]
  },
  {
   "cell_type": "code",
   "execution_count": null,
   "metadata": {
    "colab": {
     "base_uri": "https://localhost:8080/"
    },
    "executionInfo": {
     "elapsed": 429,
     "status": "ok",
     "timestamp": 1715753106580,
     "user": {
      "displayName": "Nitish Patil",
      "userId": "09015625618145133422"
     },
     "user_tz": -330
    },
    "id": "QLGL5HLB2l31",
    "outputId": "d92e8332-c409-4cc6-ea97-ababc4031ea2"
   },
   "outputs": [
    {
     "name": "stdout",
     "output_type": "stream",
     "text": [
      "[0 1 2 3]\n"
     ]
    }
   ],
   "source": [
    "import numpy as np\n",
    "arr = np.array([3, 2, 0, 1])\n",
    "print(np.sort(arr))"
   ]
  },
  {
   "cell_type": "code",
   "execution_count": null,
   "metadata": {
    "colab": {
     "base_uri": "https://localhost:8080/"
    },
    "executionInfo": {
     "elapsed": 413,
     "status": "ok",
     "timestamp": 1715753205715,
     "user": {
      "displayName": "Nitish Patil",
      "userId": "09015625618145133422"
     },
     "user_tz": -330
    },
    "id": "nYjTcqtj2rd1",
    "outputId": "af62ba37-0c35-478f-f1c0-e8877cf8d9db"
   },
   "outputs": [
    {
     "name": "stdout",
     "output_type": "stream",
     "text": [
      "['apple' 'banana' 'cherry']\n"
     ]
    }
   ],
   "source": [
    "import numpy as np\n",
    "arr = np.array(['banana', 'cherry', 'apple'])\n",
    "print(np.sort(arr))"
   ]
  },
  {
   "cell_type": "code",
   "execution_count": null,
   "metadata": {
    "colab": {
     "base_uri": "https://localhost:8080/"
    },
    "executionInfo": {
     "elapsed": 3,
     "status": "ok",
     "timestamp": 1715753281944,
     "user": {
      "displayName": "Nitish Patil",
      "userId": "09015625618145133422"
     },
     "user_tz": -330
    },
    "id": "EF7RA2oo3Dnc",
    "outputId": "e0175392-c0ac-4365-9ad5-5ddd20eef7b3"
   },
   "outputs": [
    {
     "name": "stdout",
     "output_type": "stream",
     "text": [
      "[[2 3 4]\n",
      " [0 1 5]]\n"
     ]
    }
   ],
   "source": [
    "#Sort a 2-D array:\n",
    "import numpy as np\n",
    "arr = np.array([[3, 2, 4], [5, 0, 1]])\n",
    "print(np.sort(arr))"
   ]
  },
  {
   "cell_type": "code",
   "execution_count": 14,
   "metadata": {
    "executionInfo": {
     "elapsed": 391,
     "status": "ok",
     "timestamp": 1715753851962,
     "user": {
      "displayName": "Nitish Patil",
      "userId": "09015625618145133422"
     },
     "user_tz": -330
    },
    "id": "njf5orwk3WaF"
   },
   "outputs": [],
   "source": [
    "# Random Numbers in Numpy"
   ]
  },
  {
   "cell_type": "code",
   "execution_count": null,
   "metadata": {
    "colab": {
     "base_uri": "https://localhost:8080/"
    },
    "executionInfo": {
     "elapsed": 403,
     "status": "ok",
     "timestamp": 1715753901725,
     "user": {
      "displayName": "Nitish Patil",
      "userId": "09015625618145133422"
     },
     "user_tz": -330
    },
    "id": "PW3386y65hZE",
    "outputId": "b5a2b024-82fe-4c3e-c8c3-97a3f78f06ad"
   },
   "outputs": [
    {
     "name": "stdout",
     "output_type": "stream",
     "text": [
      "51\n"
     ]
    }
   ],
   "source": [
    "from numpy import random\n",
    "x = random.randint(100)\n",
    "print(x)"
   ]
  },
  {
   "cell_type": "code",
   "execution_count": null,
   "metadata": {
    "colab": {
     "base_uri": "https://localhost:8080/"
    },
    "executionInfo": {
     "elapsed": 428,
     "status": "ok",
     "timestamp": 1715753946158,
     "user": {
      "displayName": "Nitish Patil",
      "userId": "09015625618145133422"
     },
     "user_tz": -330
    },
    "id": "X0mD4B0-5tfs",
    "outputId": "7478bd92-cb0f-4874-cfc7-a152f0466976"
   },
   "outputs": [
    {
     "name": "stdout",
     "output_type": "stream",
     "text": [
      "0.4908321243589523\n"
     ]
    }
   ],
   "source": [
    "#Generate a random float from 0 to 1:\n",
    "from numpy import random\n",
    "x = random.rand()\n",
    "print(x)"
   ]
  },
  {
   "cell_type": "code",
   "execution_count": null,
   "metadata": {
    "colab": {
     "base_uri": "https://localhost:8080/"
    },
    "executionInfo": {
     "elapsed": 404,
     "status": "ok",
     "timestamp": 1715754000948,
     "user": {
      "displayName": "Nitish Patil",
      "userId": "09015625618145133422"
     },
     "user_tz": -330
    },
    "id": "AfMY_5l752Xs",
    "outputId": "13c24150-d353-4211-9594-478cb3840802"
   },
   "outputs": [
    {
     "name": "stdout",
     "output_type": "stream",
     "text": [
      "[87 66 31 95 41]\n"
     ]
    }
   ],
   "source": [
    "#Generate a 1-D array containing 5 random integers from 0 to 100:\n",
    "from numpy import random\n",
    "x=random.randint(100, size=(5))\n",
    "print(x)"
   ]
  },
  {
   "cell_type": "code",
   "execution_count": null,
   "metadata": {
    "colab": {
     "base_uri": "https://localhost:8080/"
    },
    "executionInfo": {
     "elapsed": 3,
     "status": "ok",
     "timestamp": 1715754068259,
     "user": {
      "displayName": "Nitish Patil",
      "userId": "09015625618145133422"
     },
     "user_tz": -330
    },
    "id": "_Q0_CE6n6FxU",
    "outputId": "1ba52244-f97e-4638-c4b7-433b7e3216a2"
   },
   "outputs": [
    {
     "name": "stdout",
     "output_type": "stream",
     "text": [
      "[[0.32257621 0.28338052 0.33607766 0.31794257 0.62139103]\n",
      " [0.6971956  0.1770368  0.15998536 0.67135779 0.74674744]\n",
      " [0.39759801 0.8544103  0.14344365 0.35809775 0.24541111]]\n"
     ]
    }
   ],
   "source": [
    "from numpy import random\n",
    "x = random.rand(3, 5)\n",
    "print(x)"
   ]
  },
  {
   "cell_type": "code",
   "execution_count": null,
   "metadata": {
    "colab": {
     "base_uri": "https://localhost:8080/"
    },
    "executionInfo": {
     "elapsed": 434,
     "status": "ok",
     "timestamp": 1715754418832,
     "user": {
      "displayName": "Nitish Patil",
      "userId": "09015625618145133422"
     },
     "user_tz": -330
    },
    "id": "ye8tibMb7Jcb",
    "outputId": "622ff40d-352a-45e3-f623-ff1efda10af7"
   },
   "outputs": [
    {
     "name": "stdout",
     "output_type": "stream",
     "text": [
      "[[7 5 7 9 9]\n",
      " [5 7 3 5 3]\n",
      " [3 7 5 3 5]]\n"
     ]
    }
   ],
   "source": [
    "from numpy import random\n",
    "x = random.choice([3, 5, 7, 9], size=(3, 5))\n",
    "print(x)"
   ]
  },
  {
   "cell_type": "code",
   "execution_count": null,
   "metadata": {
    "colab": {
     "base_uri": "https://localhost:8080/"
    },
    "executionInfo": {
     "elapsed": 466,
     "status": "ok",
     "timestamp": 1715754782780,
     "user": {
      "displayName": "Nitish Patil",
      "userId": "09015625618145133422"
     },
     "user_tz": -330
    },
    "id": "vkaQTkE37nnr",
    "outputId": "a4ca5404-2624-4a9c-cff6-57d104e686a1"
   },
   "outputs": [
    {
     "name": "stdout",
     "output_type": "stream",
     "text": [
      "[5 7 7 7 7 7 7 7 7 7 5 5 5 7 5 7 7 7 3 5 7 5 7 5 5 7 3 3 5 7 7 5 7 3 5 5 7\n",
      " 5 5 5 7 7 3 3 7 7 7 7 5 7 3 5 7 7 7 7 7 7 7 7 3 7 3 5 5 7 7 3 3 7 3 3 7 7\n",
      " 5 5 7 7 7 7 5 5 5 7 7 5 7 5 3 5 7 5 5 7 7 3 5 5 7 5]\n"
     ]
    }
   ],
   "source": [
    "#Random Distribution\n",
    "from numpy import random\n",
    "x = random.choice([3, 5, 7, 9], p=[0.1, 0.3, 0.6, 0.0], size=(100))\n",
    "print(x)"
   ]
  }
 ],
 "metadata": {
  "colab": {
   "authorship_tag": "ABX9TyPs9jGL+LkWNr0TD1TkBdZm",
   "provenance": []
  },
  "kernelspec": {
   "display_name": "Python 3",
   "name": "python3"
  },
  "language_info": {
   "name": "python"
  }
 },
 "nbformat": 4,
 "nbformat_minor": 0
}
