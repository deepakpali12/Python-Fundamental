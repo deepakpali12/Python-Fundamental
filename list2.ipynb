{
 "cells": [
  {
   "cell_type": "code",
   "execution_count": null,
   "metadata": {
    "id": "i-nnk51QShm1"
   },
   "outputs": [],
   "source": [
    "#List Creation"
   ]
  },
  {
   "cell_type": "code",
   "execution_count": null,
   "metadata": {
    "colab": {
     "base_uri": "https://localhost:8080/"
    },
    "executionInfo": {
     "elapsed": 6,
     "status": "ok",
     "timestamp": 1710832000580,
     "user": {
      "displayName": "Nitish Patil",
      "userId": "09015625618145133422"
     },
     "user_tz": -330
    },
    "id": "6Rp0wmhJVh3q",
    "outputId": "0a562f04-05e3-4d6b-9ade-6ed3b4688aeb"
   },
   "outputs": [
    {
     "name": "stdout",
     "output_type": "stream",
     "text": [
      "[1, 1, 2, 3, 4, 5]\n"
     ]
    }
   ],
   "source": [
    "L1=[1,1,2,3,4,5]\n",
    "print(L1)"
   ]
  },
  {
   "cell_type": "code",
   "execution_count": null,
   "metadata": {
    "colab": {
     "base_uri": "https://localhost:8080/"
    },
    "executionInfo": {
     "elapsed": 6,
     "status": "ok",
     "timestamp": 1694427966878,
     "user": {
      "displayName": "Nitish Patil",
      "userId": "09015625618145133422"
     },
     "user_tz": -330
    },
    "id": "3FnGQN2pxa-e",
    "outputId": "d213cf00-24b7-4c89-80ec-fe4a273edffa"
   },
   "outputs": [
    {
     "name": "stdout",
     "output_type": "stream",
     "text": [
      "<class 'list'>\n"
     ]
    }
   ],
   "source": [
    "print(type(L1))"
   ]
  },
  {
   "cell_type": "code",
   "execution_count": null,
   "metadata": {
    "colab": {
     "base_uri": "https://localhost:8080/"
    },
    "executionInfo": {
     "elapsed": 625,
     "status": "ok",
     "timestamp": 1694427992679,
     "user": {
      "displayName": "Nitish Patil",
      "userId": "09015625618145133422"
     },
     "user_tz": -330
    },
    "id": "IZwMA3hxxulV",
    "outputId": "7740a358-e0ed-4efc-da9a-077c21df3d6b"
   },
   "outputs": [
    {
     "name": "stdout",
     "output_type": "stream",
     "text": [
      "5\n"
     ]
    }
   ],
   "source": [
    "print(len(L1))"
   ]
  },
  {
   "cell_type": "code",
   "execution_count": null,
   "metadata": {
    "id": "cB0xm7OIxxLd"
   },
   "outputs": [],
   "source": [
    "# List with multiple data types\n",
    "l2=[\"A\",2,\"B\",3,4,5]"
   ]
  },
  {
   "cell_type": "code",
   "execution_count": null,
   "metadata": {
    "colab": {
     "base_uri": "https://localhost:8080/"
    },
    "executionInfo": {
     "elapsed": 5,
     "status": "ok",
     "timestamp": 1694428106773,
     "user": {
      "displayName": "Nitish Patil",
      "userId": "09015625618145133422"
     },
     "user_tz": -330
    },
    "id": "YAi2FexAyLKV",
    "outputId": "35c40c9c-30a8-4d04-f275-ca33ef0c33c0"
   },
   "outputs": [
    {
     "name": "stdout",
     "output_type": "stream",
     "text": [
      "['A', 2, 'B', 3, 4, 5]\n"
     ]
    }
   ],
   "source": [
    "print(l2)"
   ]
  },
  {
   "cell_type": "code",
   "execution_count": null,
   "metadata": {
    "id": "wOpYWgrFyQpV"
   },
   "outputs": [],
   "source": [
    "# Change item value"
   ]
  },
  {
   "cell_type": "code",
   "execution_count": null,
   "metadata": {
    "colab": {
     "base_uri": "https://localhost:8080/"
    },
    "executionInfo": {
     "elapsed": 1,
     "status": "ok",
     "timestamp": 1710833210673,
     "user": {
      "displayName": "Nitish Patil",
      "userId": "09015625618145133422"
     },
     "user_tz": -330
    },
    "id": "hqbh8DUz913M",
    "outputId": "3aaa2ded-8f87-4804-aee1-864fac831edd"
   },
   "outputs": [
    {
     "name": "stdout",
     "output_type": "stream",
     "text": [
      "[1, 2, 3, 4, 5, 6, 7]\n"
     ]
    }
   ],
   "source": [
    "L2=[1,2,3,4,5,6,7]\n",
    "print(L2)"
   ]
  },
  {
   "cell_type": "code",
   "execution_count": null,
   "metadata": {
    "colab": {
     "base_uri": "https://localhost:8080/"
    },
    "executionInfo": {
     "elapsed": 3,
     "status": "ok",
     "timestamp": 1710833213903,
     "user": {
      "displayName": "Nitish Patil",
      "userId": "09015625618145133422"
     },
     "user_tz": -330
    },
    "id": "e45qWWab-Dqu",
    "outputId": "722d503d-d980-4b30-b809-376170a37978"
   },
   "outputs": [
    {
     "name": "stdout",
     "output_type": "stream",
     "text": [
      "[1, 2, 8, 4, 5, 6, 7]\n"
     ]
    }
   ],
   "source": [
    "L2[2]=8\n",
    "print(L2)"
   ]
  },
  {
   "cell_type": "code",
   "execution_count": null,
   "metadata": {
    "colab": {
     "base_uri": "https://localhost:8080/"
    },
    "executionInfo": {
     "elapsed": 404,
     "status": "ok",
     "timestamp": 1710833348929,
     "user": {
      "displayName": "Nitish Patil",
      "userId": "09015625618145133422"
     },
     "user_tz": -330
    },
    "id": "_kQZFMEunQTP",
    "outputId": "1c2d9e63-148c-49a6-9570-651f9623cb00"
   },
   "outputs": [
    {
     "data": {
      "text/plain": [
       "7"
      ]
     },
     "execution_count": 12,
     "metadata": {},
     "output_type": "execute_result"
    }
   ],
   "source": [
    "L2[-1]"
   ]
  },
  {
   "cell_type": "code",
   "execution_count": null,
   "metadata": {
    "colab": {
     "base_uri": "https://localhost:8080/"
    },
    "executionInfo": {
     "elapsed": 4,
     "status": "ok",
     "timestamp": 1710833372521,
     "user": {
      "displayName": "Nitish Patil",
      "userId": "09015625618145133422"
     },
     "user_tz": -330
    },
    "id": "5LS6RwTNnU7l",
    "outputId": "2dcf8ee8-6fe4-4406-f8ef-7df674fa600b"
   },
   "outputs": [
    {
     "data": {
      "text/plain": [
       "5"
      ]
     },
     "execution_count": 13,
     "metadata": {},
     "output_type": "execute_result"
    }
   ],
   "source": [
    "L2[-3]"
   ]
  },
  {
   "cell_type": "code",
   "execution_count": null,
   "metadata": {
    "colab": {
     "base_uri": "https://localhost:8080/"
    },
    "executionInfo": {
     "elapsed": 1,
     "status": "ok",
     "timestamp": 1710833603879,
     "user": {
      "displayName": "Nitish Patil",
      "userId": "09015625618145133422"
     },
     "user_tz": -330
    },
    "id": "RVCGtCBbn5sl",
    "outputId": "0d3ee130-7ac9-4f90-94a4-76a517a15834"
   },
   "outputs": [
    {
     "data": {
      "text/plain": [
       "[4, 5, 6]"
      ]
     },
     "execution_count": 15,
     "metadata": {},
     "output_type": "execute_result"
    }
   ],
   "source": [
    "L2[3:6]"
   ]
  },
  {
   "cell_type": "code",
   "execution_count": null,
   "metadata": {
    "id": "31hb3nGcojJW"
   },
   "outputs": [],
   "source": []
  },
  {
   "cell_type": "code",
   "execution_count": null,
   "metadata": {
    "colab": {
     "base_uri": "https://localhost:8080/"
    },
    "executionInfo": {
     "elapsed": 4,
     "status": "ok",
     "timestamp": 1710833217457,
     "user": {
      "displayName": "Nitish Patil",
      "userId": "09015625618145133422"
     },
     "user_tz": -330
    },
    "id": "tJ7__A36mkL9",
    "outputId": "ae497d84-b05b-4698-97f1-e9cafacd33a6"
   },
   "outputs": [
    {
     "name": "stdout",
     "output_type": "stream",
     "text": [
      "6\n"
     ]
    }
   ],
   "source": [
    "# Accessing List items\n",
    "print(L2[5])"
   ]
  },
  {
   "cell_type": "code",
   "execution_count": null,
   "metadata": {
    "colab": {
     "base_uri": "https://localhost:8080/"
    },
    "executionInfo": {
     "elapsed": 6,
     "status": "ok",
     "timestamp": 1710834393331,
     "user": {
      "displayName": "Nitish Patil",
      "userId": "09015625618145133422"
     },
     "user_tz": -330
    },
    "id": "OxLqX5LDn1_c",
    "outputId": "026d59d3-5fb1-40a5-a5e4-e10ba438e4b6"
   },
   "outputs": [
    {
     "data": {
      "text/plain": [
       "[8, 4, 5, 6, 7]"
      ]
     },
     "execution_count": 16,
     "metadata": {},
     "output_type": "execute_result"
    }
   ],
   "source": [
    "L2[-5:]"
   ]
  },
  {
   "cell_type": "code",
   "execution_count": null,
   "metadata": {
    "colab": {
     "base_uri": "https://localhost:8080/"
    },
    "executionInfo": {
     "elapsed": 4,
     "status": "ok",
     "timestamp": 1710833274030,
     "user": {
      "displayName": "Nitish Patil",
      "userId": "09015625618145133422"
     },
     "user_tz": -330
    },
    "id": "oom-Yxbjm1tV",
    "outputId": "679f0d38-0e94-4c0f-edbb-639f9ff1452f"
   },
   "outputs": [
    {
     "name": "stdout",
     "output_type": "stream",
     "text": [
      "8\n"
     ]
    }
   ],
   "source": [
    "print(L2[2])"
   ]
  },
  {
   "cell_type": "code",
   "execution_count": null,
   "metadata": {
    "colab": {
     "base_uri": "https://localhost:8080/"
    },
    "executionInfo": {
     "elapsed": 4,
     "status": "ok",
     "timestamp": 1710834459597,
     "user": {
      "displayName": "Nitish Patil",
      "userId": "09015625618145133422"
     },
     "user_tz": -330
    },
    "id": "51GOE-nmrfw-",
    "outputId": "d415f97a-d8e4-472d-9d9e-614dbf2c06e0"
   },
   "outputs": [
    {
     "data": {
      "text/plain": [
       "[8, 4, 5, 6, 7]"
      ]
     },
     "execution_count": 17,
     "metadata": {},
     "output_type": "execute_result"
    }
   ],
   "source": [
    "L2[2:]"
   ]
  },
  {
   "cell_type": "code",
   "execution_count": null,
   "metadata": {
    "colab": {
     "base_uri": "https://localhost:8080/"
    },
    "executionInfo": {
     "elapsed": 440,
     "status": "ok",
     "timestamp": 1694582446434,
     "user": {
      "displayName": "Nitish Patil",
      "userId": "09015625618145133422"
     },
     "user_tz": -330
    },
    "id": "bkMGw4uN-LQm",
    "outputId": "439ea631-4460-4269-f054-6b3226392466"
   },
   "outputs": [
    {
     "name": "stdout",
     "output_type": "stream",
     "text": [
      "[1, 'A', 'B', 'C', 4, 5, 6, 7]\n"
     ]
    }
   ],
   "source": [
    "L2[1:3]=\"A\",\"B\"\n",
    "print(L2)"
   ]
  },
  {
   "cell_type": "code",
   "execution_count": null,
   "metadata": {
    "colab": {
     "base_uri": "https://localhost:8080/"
    },
    "executionInfo": {
     "elapsed": 490,
     "status": "ok",
     "timestamp": 1710834566524,
     "user": {
      "displayName": "Nitish Patil",
      "userId": "09015625618145133422"
     },
     "user_tz": -330
    },
    "id": "xMr43OfTm0v_",
    "outputId": "9b8923d1-95ab-4ba0-d6e3-8267f2f94f3d"
   },
   "outputs": [
    {
     "data": {
      "text/plain": [
       "[1, 2, 8, 4]"
      ]
     },
     "execution_count": 18,
     "metadata": {},
     "output_type": "execute_result"
    }
   ],
   "source": [
    "L2[0:4]"
   ]
  },
  {
   "cell_type": "code",
   "execution_count": null,
   "metadata": {
    "colab": {
     "base_uri": "https://localhost:8080/"
    },
    "executionInfo": {
     "elapsed": 403,
     "status": "ok",
     "timestamp": 1710834624440,
     "user": {
      "displayName": "Nitish Patil",
      "userId": "09015625618145133422"
     },
     "user_tz": -330
    },
    "id": "4fufKMcGr-aO",
    "outputId": "0d7a0327-cc8f-4d5d-9a3d-cb5e4f852cc7"
   },
   "outputs": [
    {
     "data": {
      "text/plain": [
       "[1, 2, 8, 4]"
      ]
     },
     "execution_count": 19,
     "metadata": {},
     "output_type": "execute_result"
    }
   ],
   "source": [
    "L2[:4]"
   ]
  },
  {
   "cell_type": "code",
   "execution_count": null,
   "metadata": {
    "colab": {
     "base_uri": "https://localhost:8080/"
    },
    "executionInfo": {
     "elapsed": 433,
     "status": "ok",
     "timestamp": 1694584786430,
     "user": {
      "displayName": "Nitish Patil",
      "userId": "09015625618145133422"
     },
     "user_tz": -330
    },
    "id": "f83mx9yt-3JL",
    "outputId": "aaa0b31d-841a-4f39-c365-e5fb2f5349b1"
   },
   "outputs": [
    {
     "name": "stdout",
     "output_type": "stream",
     "text": [
      "[1, 'A', 2, 'C', 4, 5, 6, 7]\n"
     ]
    }
   ],
   "source": [
    "L2[2]=2\n",
    "print(L2)"
   ]
  },
  {
   "cell_type": "code",
   "execution_count": null,
   "metadata": {
    "colab": {
     "base_uri": "https://localhost:8080/"
    },
    "executionInfo": {
     "elapsed": 6,
     "status": "ok",
     "timestamp": 1694585372282,
     "user": {
      "displayName": "Nitish Patil",
      "userId": "09015625618145133422"
     },
     "user_tz": -330
    },
    "id": "y5M8j3uvH8T2",
    "outputId": "0949b828-c385-471f-e261-d33746567514"
   },
   "outputs": [
    {
     "name": "stdout",
     "output_type": "stream",
     "text": [
      "[6, 7, 13, 9]\n"
     ]
    }
   ],
   "source": [
    "L3=[6,7,8,9]\n",
    "L3[2]=13\n",
    "print(L3)"
   ]
  },
  {
   "cell_type": "code",
   "execution_count": null,
   "metadata": {
    "id": "VPtiK2c-QDds"
   },
   "outputs": [],
   "source": [
    "# Append Items\n",
    "# To add an item to the end of the list, use the append() method:"
   ]
  },
  {
   "cell_type": "code",
   "execution_count": null,
   "metadata": {
    "colab": {
     "base_uri": "https://localhost:8080/"
    },
    "executionInfo": {
     "elapsed": 550,
     "status": "ok",
     "timestamp": 1710914684879,
     "user": {
      "displayName": "Nitish Patil",
      "userId": "09015625618145133422"
     },
     "user_tz": -330
    },
    "id": "qqptCHKqLq0E",
    "outputId": "2d27e23c-54a2-40c7-dddf-09bb39ebe6c3"
   },
   "outputs": [
    {
     "name": "stdout",
     "output_type": "stream",
     "text": [
      "['Python', 'SQL', 'Stats']\n"
     ]
    }
   ],
   "source": [
    "course=[\"Python\",\"SQL\",\"Stats\"]\n",
    "print(course)"
   ]
  },
  {
   "cell_type": "code",
   "execution_count": null,
   "metadata": {
    "colab": {
     "base_uri": "https://localhost:8080/"
    },
    "executionInfo": {
     "elapsed": 5,
     "status": "ok",
     "timestamp": 1710914688082,
     "user": {
      "displayName": "Nitish Patil",
      "userId": "09015625618145133422"
     },
     "user_tz": -330
    },
    "id": "ZbKNB_f8NS5T",
    "outputId": "0683f598-19c9-4f97-9155-bc1f2ad0bc3f"
   },
   "outputs": [
    {
     "name": "stdout",
     "output_type": "stream",
     "text": [
      "['Python', 'SQL', 'Stats', 'Excel']\n"
     ]
    }
   ],
   "source": [
    "course.append(\"Excel\")\n",
    "print(course)"
   ]
  },
  {
   "cell_type": "code",
   "execution_count": null,
   "metadata": {
    "id": "pFCvDPEnQN4N"
   },
   "outputs": [],
   "source": [
    "# Insert Items"
   ]
  },
  {
   "cell_type": "code",
   "execution_count": null,
   "metadata": {
    "colab": {
     "base_uri": "https://localhost:8080/"
    },
    "executionInfo": {
     "elapsed": 399,
     "status": "ok",
     "timestamp": 1710914691809,
     "user": {
      "displayName": "Nitish Patil",
      "userId": "09015625618145133422"
     },
     "user_tz": -330
    },
    "id": "YqobQhaJNhmo",
    "outputId": "d9c34a0b-783e-43b4-d1e3-23ff75fa9e73"
   },
   "outputs": [
    {
     "name": "stdout",
     "output_type": "stream",
     "text": [
      "['Python', 'SQL', 'Stats', 'Algo', 'Excel']\n"
     ]
    }
   ],
   "source": [
    "course.insert(3,'Algo')\n",
    "print(course)"
   ]
  },
  {
   "cell_type": "code",
   "execution_count": null,
   "metadata": {
    "colab": {
     "base_uri": "https://localhost:8080/"
    },
    "executionInfo": {
     "elapsed": 671,
     "status": "ok",
     "timestamp": 1710914695925,
     "user": {
      "displayName": "Nitish Patil",
      "userId": "09015625618145133422"
     },
     "user_tz": -330
    },
    "id": "qaUV3aMbODYG",
    "outputId": "dfe0eee2-4883-4d47-d11e-a96ac5ca743d"
   },
   "outputs": [
    {
     "name": "stdout",
     "output_type": "stream",
     "text": [
      "['TCS', 'Infosys', 'Wipro']\n"
     ]
    }
   ],
   "source": [
    "company=['TCS','Infosys','Wipro']\n",
    "print(company)"
   ]
  },
  {
   "cell_type": "code",
   "execution_count": null,
   "metadata": {
    "id": "2KySIHDJPR1h"
   },
   "outputs": [],
   "source": [
    "# Extend List\n",
    "# To append elements from another list to the current list, use the extend() method."
   ]
  },
  {
   "cell_type": "code",
   "execution_count": null,
   "metadata": {
    "id": "tuNgxmnyOoXR"
   },
   "outputs": [],
   "source": [
    "course.extend(company)"
   ]
  },
  {
   "cell_type": "code",
   "execution_count": null,
   "metadata": {
    "colab": {
     "base_uri": "https://localhost:8080/"
    },
    "executionInfo": {
     "elapsed": 3,
     "status": "ok",
     "timestamp": 1710914702192,
     "user": {
      "displayName": "Nitish Patil",
      "userId": "09015625618145133422"
     },
     "user_tz": -330
    },
    "id": "xdZt4ZU-PASi",
    "outputId": "df0d8a3f-b443-4321-95bd-65e1cb1d985d"
   },
   "outputs": [
    {
     "name": "stdout",
     "output_type": "stream",
     "text": [
      "['Python', 'SQL', 'Stats', 'Algo', 'Excel', 'TCS', 'Infosys', 'Wipro']\n"
     ]
    }
   ],
   "source": [
    "print(course)"
   ]
  },
  {
   "cell_type": "code",
   "execution_count": null,
   "metadata": {
    "id": "XqbWhUSTPIpJ"
   },
   "outputs": [],
   "source": [
    "# Remove Specified Item\n",
    "# The remove() method removes the specified item."
   ]
  },
  {
   "cell_type": "code",
   "execution_count": null,
   "metadata": {
    "colab": {
     "base_uri": "https://localhost:8080/"
    },
    "executionInfo": {
     "elapsed": 409,
     "status": "ok",
     "timestamp": 1710914712572,
     "user": {
      "displayName": "Nitish Patil",
      "userId": "09015625618145133422"
     },
     "user_tz": -330
    },
    "id": "TN0vUTsVQeqU",
    "outputId": "b1ff2e46-ad9e-4db0-eb62-86e3368076ec"
   },
   "outputs": [
    {
     "name": "stdout",
     "output_type": "stream",
     "text": [
      "['Python', 'SQL', 'Stats', 'Excel', 'TCS', 'Infosys', 'Wipro']\n"
     ]
    }
   ],
   "source": [
    "course.remove('Algo')\n",
    "print(course)"
   ]
  },
  {
   "cell_type": "code",
   "execution_count": null,
   "metadata": {
    "colab": {
     "base_uri": "https://localhost:8080/"
    },
    "executionInfo": {
     "elapsed": 3,
     "status": "ok",
     "timestamp": 1710915099032,
     "user": {
      "displayName": "Nitish Patil",
      "userId": "09015625618145133422"
     },
     "user_tz": -330
    },
    "id": "mGlWm5Oldcjk",
    "outputId": "e55cfd46-c975-4ee5-fe53-840c952dbf5c"
   },
   "outputs": [
    {
     "name": "stdout",
     "output_type": "stream",
     "text": [
      "['Python', 'SQL', 'Stats', 'Infosys', 'Wipro']\n"
     ]
    }
   ],
   "source": [
    "#Remove Specified item\n",
    "course.pop(3)\n",
    "print(course)"
   ]
  },
  {
   "cell_type": "code",
   "execution_count": null,
   "metadata": {
    "colab": {
     "base_uri": "https://localhost:8080/",
     "height": 35
    },
    "executionInfo": {
     "elapsed": 5,
     "status": "ok",
     "timestamp": 1710915131089,
     "user": {
      "displayName": "Nitish Patil",
      "userId": "09015625618145133422"
     },
     "user_tz": -330
    },
    "id": "sWHp3SgofPEL",
    "outputId": "9eafcd7f-36e7-447f-abc4-93b168650fcb"
   },
   "outputs": [
    {
     "data": {
      "application/vnd.google.colaboratory.intrinsic+json": {
       "type": "string"
      },
      "text/plain": [
       "'Wipro'"
      ]
     },
     "execution_count": 10,
     "metadata": {},
     "output_type": "execute_result"
    }
   ],
   "source": [
    "course.pop()"
   ]
  },
  {
   "cell_type": "code",
   "execution_count": null,
   "metadata": {
    "colab": {
     "base_uri": "https://localhost:8080/"
    },
    "executionInfo": {
     "elapsed": 408,
     "status": "ok",
     "timestamp": 1710915254592,
     "user": {
      "displayName": "Nitish Patil",
      "userId": "09015625618145133422"
     },
     "user_tz": -330
    },
    "id": "zt5lx4msfS2B",
    "outputId": "c151193a-2861-4f22-dcf5-33fa172c365c"
   },
   "outputs": [
    {
     "name": "stdout",
     "output_type": "stream",
     "text": [
      "['Python', 'SQL', 'Stats', 'Infosys']\n"
     ]
    }
   ],
   "source": [
    "print(course)\n"
   ]
  },
  {
   "cell_type": "code",
   "execution_count": null,
   "metadata": {
    "id": "bID_eKpbfq9a"
   },
   "outputs": [],
   "source": [
    "# del method\n",
    "del course[0]"
   ]
  },
  {
   "cell_type": "code",
   "execution_count": null,
   "metadata": {
    "colab": {
     "base_uri": "https://localhost:8080/"
    },
    "executionInfo": {
     "elapsed": 6,
     "status": "ok",
     "timestamp": 1710915317059,
     "user": {
      "displayName": "Nitish Patil",
      "userId": "09015625618145133422"
     },
     "user_tz": -330
    },
    "id": "jt-pbf1bf8JR",
    "outputId": "edcca97c-330a-4d35-f127-b919157308fc"
   },
   "outputs": [
    {
     "name": "stdout",
     "output_type": "stream",
     "text": [
      "['SQL', 'Stats', 'Infosys']\n"
     ]
    }
   ],
   "source": [
    "print(course)"
   ]
  },
  {
   "cell_type": "code",
   "execution_count": null,
   "metadata": {
    "colab": {
     "base_uri": "https://localhost:8080/"
    },
    "executionInfo": {
     "elapsed": 494,
     "status": "ok",
     "timestamp": 1710915371113,
     "user": {
      "displayName": "Nitish Patil",
      "userId": "09015625618145133422"
     },
     "user_tz": -330
    },
    "id": "-AkhvHcfgCUS",
    "outputId": "3fc2003f-406a-42f0-8f95-2c9e326e63cd"
   },
   "outputs": [
    {
     "data": {
      "text/plain": [
       "[1, 2, 3]"
      ]
     },
     "execution_count": 17,
     "metadata": {},
     "output_type": "execute_result"
    }
   ],
   "source": [
    "L5=[1,2,3]\n",
    "L5"
   ]
  },
  {
   "cell_type": "code",
   "execution_count": null,
   "metadata": {
    "colab": {
     "base_uri": "https://localhost:8080/"
    },
    "executionInfo": {
     "elapsed": 5,
     "status": "ok",
     "timestamp": 1710916012738,
     "user": {
      "displayName": "Nitish Patil",
      "userId": "09015625618145133422"
     },
     "user_tz": -330
    },
    "id": "fbPoapPyidY5",
    "outputId": "a46902d2-3fb1-40aa-b1ae-2fa2dafc922b"
   },
   "outputs": [
    {
     "data": {
      "text/plain": [
       "[10, 11, 12]"
      ]
     },
     "execution_count": 20,
     "metadata": {},
     "output_type": "execute_result"
    }
   ],
   "source": [
    "#Clear method\n",
    "\n",
    "L6=[10,11,12]\n",
    "L6"
   ]
  },
  {
   "cell_type": "code",
   "execution_count": null,
   "metadata": {
    "id": "eLo3axcvipdh"
   },
   "outputs": [],
   "source": [
    "L6.clear()"
   ]
  },
  {
   "cell_type": "code",
   "execution_count": null,
   "metadata": {
    "colab": {
     "base_uri": "https://localhost:8080/"
    },
    "executionInfo": {
     "elapsed": 3,
     "status": "ok",
     "timestamp": 1710916046654,
     "user": {
      "displayName": "Nitish Patil",
      "userId": "09015625618145133422"
     },
     "user_tz": -330
    },
    "id": "S-Wom8pIivj6",
    "outputId": "340bc988-b7e4-4830-80e9-89f1332c052f"
   },
   "outputs": [
    {
     "data": {
      "text/plain": [
       "[]"
      ]
     },
     "execution_count": 23,
     "metadata": {},
     "output_type": "execute_result"
    }
   ],
   "source": [
    "L6"
   ]
  },
  {
   "cell_type": "code",
   "execution_count": null,
   "metadata": {
    "id": "zwI_haquTdUB"
   },
   "outputs": [],
   "source": [
    "# Copy List"
   ]
  },
  {
   "cell_type": "code",
   "execution_count": null,
   "metadata": {
    "id": "BqXX7A5WFP0F"
   },
   "outputs": [],
   "source": [
    "movie=[\"ABC\",\"RRR\",\"Lagan\"]"
   ]
  },
  {
   "cell_type": "code",
   "execution_count": null,
   "metadata": {
    "colab": {
     "base_uri": "https://localhost:8080/"
    },
    "executionInfo": {
     "elapsed": 664,
     "status": "ok",
     "timestamp": 1694852752635,
     "user": {
      "displayName": "Nitish Patil",
      "userId": "09015625618145133422"
     },
     "user_tz": -330
    },
    "id": "s2LJOHRiFedc",
    "outputId": "21d396c2-10c4-453a-f6eb-8dab11092e0e"
   },
   "outputs": [
    {
     "name": "stdout",
     "output_type": "stream",
     "text": [
      "['ABC', 'RRR', 'Lagan']\n"
     ]
    }
   ],
   "source": [
    "print(movie)"
   ]
  },
  {
   "cell_type": "code",
   "execution_count": null,
   "metadata": {
    "id": "Poka4VrbGF6K"
   },
   "outputs": [],
   "source": [
    "Film=movie.copy()"
   ]
  },
  {
   "cell_type": "code",
   "execution_count": null,
   "metadata": {
    "colab": {
     "base_uri": "https://localhost:8080/"
    },
    "executionInfo": {
     "elapsed": 6,
     "status": "ok",
     "timestamp": 1694852865274,
     "user": {
      "displayName": "Nitish Patil",
      "userId": "09015625618145133422"
     },
     "user_tz": -330
    },
    "id": "sPb2Q5ZYGjWq",
    "outputId": "d51d030e-c1a2-4d14-dac9-e256bdd261f9"
   },
   "outputs": [
    {
     "name": "stdout",
     "output_type": "stream",
     "text": [
      "['ABC', 'RRR', 'Lagan']\n"
     ]
    }
   ],
   "source": [
    "print(Film)"
   ]
  },
  {
   "cell_type": "code",
   "execution_count": null,
   "metadata": {
    "id": "dnadj32KGlZy"
   },
   "outputs": [],
   "source": [
    "Film2=list(movie)"
   ]
  },
  {
   "cell_type": "code",
   "execution_count": null,
   "metadata": {
    "colab": {
     "base_uri": "https://localhost:8080/"
    },
    "executionInfo": {
     "elapsed": 770,
     "status": "ok",
     "timestamp": 1694852932159,
     "user": {
      "displayName": "Nitish Patil",
      "userId": "09015625618145133422"
     },
     "user_tz": -330
    },
    "id": "xZS6i8WTGyuK",
    "outputId": "5293db95-e9ae-462c-abdc-bbca5faf095e"
   },
   "outputs": [
    {
     "name": "stdout",
     "output_type": "stream",
     "text": [
      "['ABC', 'RRR', 'Lagan']\n"
     ]
    }
   ],
   "source": [
    "print(Film2)"
   ]
  },
  {
   "cell_type": "code",
   "execution_count": null,
   "metadata": {
    "id": "RkWcB08jG1ty"
   },
   "outputs": [],
   "source": [
    "# Join Two Lists-  two lists is by appending all the items from list2 into list1"
   ]
  },
  {
   "cell_type": "code",
   "execution_count": null,
   "metadata": {
    "id": "D_ABh68zHXXd"
   },
   "outputs": [],
   "source": [
    "L11=[1,2,3,4]"
   ]
  },
  {
   "cell_type": "code",
   "execution_count": null,
   "metadata": {
    "id": "fsxtPPYoHg5y"
   },
   "outputs": [],
   "source": [
    "L12=['smily','pricy','seeky']"
   ]
  },
  {
   "cell_type": "code",
   "execution_count": null,
   "metadata": {
    "id": "pbDcs-Z_Hqqq"
   },
   "outputs": [],
   "source": [
    "L13=L11+L12"
   ]
  },
  {
   "cell_type": "code",
   "execution_count": null,
   "metadata": {
    "colab": {
     "base_uri": "https://localhost:8080/"
    },
    "executionInfo": {
     "elapsed": 777,
     "status": "ok",
     "timestamp": 1694853180857,
     "user": {
      "displayName": "Nitish Patil",
      "userId": "09015625618145133422"
     },
     "user_tz": -330
    },
    "id": "1JBm9wfbHwY6",
    "outputId": "6672eb2e-e62d-4717-d8c9-772c9d68a725"
   },
   "outputs": [
    {
     "name": "stdout",
     "output_type": "stream",
     "text": [
      "[1, 2, 3, 4, 'smily', 'pricy', 'seeky']\n"
     ]
    }
   ],
   "source": [
    "print(L13)"
   ]
  },
  {
   "cell_type": "code",
   "execution_count": null,
   "metadata": {
    "colab": {
     "base_uri": "https://localhost:8080/"
    },
    "executionInfo": {
     "elapsed": 3,
     "status": "ok",
     "timestamp": 1695199800640,
     "user": {
      "displayName": "Nitish Patil",
      "userId": "09015625618145133422"
     },
     "user_tz": -330
    },
    "id": "qvzdInQPHybK",
    "outputId": "16e86dd8-1ff9-46ba-dff2-3ccdf6bc45b7"
   },
   "outputs": [
    {
     "name": "stdout",
     "output_type": "stream",
     "text": [
      "4\n"
     ]
    }
   ],
   "source": [
    "print(max(L11))"
   ]
  },
  {
   "cell_type": "code",
   "execution_count": null,
   "metadata": {
    "colab": {
     "base_uri": "https://localhost:8080/"
    },
    "executionInfo": {
     "elapsed": 3,
     "status": "ok",
     "timestamp": 1695199815822,
     "user": {
      "displayName": "Nitish Patil",
      "userId": "09015625618145133422"
     },
     "user_tz": -330
    },
    "id": "BF-soARaNpQW",
    "outputId": "04caaaec-61e4-415d-fdf6-e7937540ad7d"
   },
   "outputs": [
    {
     "name": "stdout",
     "output_type": "stream",
     "text": [
      "1\n"
     ]
    }
   ],
   "source": [
    "print(min(L11))"
   ]
  },
  {
   "cell_type": "code",
   "execution_count": null,
   "metadata": {
    "id": "CQ7aiE94yGIy"
   },
   "outputs": [],
   "source": [
    "# Sort Method\n",
    "L7=[20,23,82,5,67]"
   ]
  },
  {
   "cell_type": "code",
   "execution_count": null,
   "metadata": {
    "colab": {
     "base_uri": "https://localhost:8080/"
    },
    "executionInfo": {
     "elapsed": 2,
     "status": "ok",
     "timestamp": 1710916744025,
     "user": {
      "displayName": "Nitish Patil",
      "userId": "09015625618145133422"
     },
     "user_tz": -330
    },
    "id": "VB47jfd6lYc5",
    "outputId": "6a8cac73-d9e5-479d-fe45-606d25c9c64e"
   },
   "outputs": [
    {
     "name": "stdout",
     "output_type": "stream",
     "text": [
      "[20, 23, 82, 5, 67]\n"
     ]
    }
   ],
   "source": [
    "print(L7)"
   ]
  },
  {
   "cell_type": "code",
   "execution_count": null,
   "metadata": {
    "id": "UqCmQemIla1f"
   },
   "outputs": [],
   "source": [
    "L7.sort()"
   ]
  },
  {
   "cell_type": "code",
   "execution_count": null,
   "metadata": {
    "colab": {
     "base_uri": "https://localhost:8080/"
    },
    "executionInfo": {
     "elapsed": 4,
     "status": "ok",
     "timestamp": 1710916764334,
     "user": {
      "displayName": "Nitish Patil",
      "userId": "09015625618145133422"
     },
     "user_tz": -330
    },
    "id": "SNgH0AHeldYg",
    "outputId": "590f171a-f332-48c1-d857-0558cc481ab7"
   },
   "outputs": [
    {
     "name": "stdout",
     "output_type": "stream",
     "text": [
      "[5, 20, 23, 67, 82]\n"
     ]
    }
   ],
   "source": [
    "print(L7)"
   ]
  },
  {
   "cell_type": "code",
   "execution_count": null,
   "metadata": {
    "id": "TvFrddNulf9w"
   },
   "outputs": [],
   "source": [
    "L8=[21,45,82,5,67]"
   ]
  },
  {
   "cell_type": "code",
   "execution_count": null,
   "metadata": {
    "colab": {
     "base_uri": "https://localhost:8080/"
    },
    "executionInfo": {
     "elapsed": 4,
     "status": "ok",
     "timestamp": 1710916852502,
     "user": {
      "displayName": "Nitish Patil",
      "userId": "09015625618145133422"
     },
     "user_tz": -330
    },
    "id": "7GA1D-Sglzwo",
    "outputId": "1113f172-28b5-4ddd-a875-14a3c45200fd"
   },
   "outputs": [
    {
     "name": "stdout",
     "output_type": "stream",
     "text": [
      "[21, 45, 82, 5, 67]\n"
     ]
    }
   ],
   "source": [
    "print(L8)"
   ]
  },
  {
   "cell_type": "code",
   "execution_count": null,
   "metadata": {
    "id": "J7RNMqubl1UQ"
   },
   "outputs": [],
   "source": [
    "L8.sort(reverse=True)"
   ]
  },
  {
   "cell_type": "code",
   "execution_count": null,
   "metadata": {
    "colab": {
     "base_uri": "https://localhost:8080/"
    },
    "executionInfo": {
     "elapsed": 4,
     "status": "ok",
     "timestamp": 1710916876840,
     "user": {
      "displayName": "Nitish Patil",
      "userId": "09015625618145133422"
     },
     "user_tz": -330
    },
    "id": "BOakUyDsl5no",
    "outputId": "ae0cac5b-f96f-4b6b-cfc4-0f4bcf84b468"
   },
   "outputs": [
    {
     "name": "stdout",
     "output_type": "stream",
     "text": [
      "[82, 67, 45, 21, 5]\n"
     ]
    }
   ],
   "source": [
    "print(L8)"
   ]
  },
  {
   "cell_type": "code",
   "execution_count": 1,
   "metadata": {
    "colab": {
     "base_uri": "https://localhost:8080/"
    },
    "executionInfo": {
     "elapsed": 3,
     "status": "ok",
     "timestamp": 1711518772242,
     "user": {
      "displayName": "Nitish Patil",
      "userId": "09015625618145133422"
     },
     "user_tz": -330
    },
    "id": "_ZbCd8Wfl7MQ",
    "outputId": "a1b91986-c0ce-4c7d-90c2-b54bf2b62ca9"
   },
   "outputs": [
    {
     "name": "stdout",
     "output_type": "stream",
     "text": [
      "[1, 2, 3, 4, 5, 6]\n"
     ]
    }
   ],
   "source": [
    "# Joining Lists\n",
    "l21=[1,2,3]\n",
    "l22=[4,5,6]\n",
    "l23=l21+l22\n",
    "print(l23)"
   ]
  },
  {
   "cell_type": "code",
   "execution_count": 5,
   "metadata": {
    "executionInfo": {
     "elapsed": 497,
     "status": "ok",
     "timestamp": 1711518914848,
     "user": {
      "displayName": "Nitish Patil",
      "userId": "09015625618145133422"
     },
     "user_tz": -330
    },
    "id": "8sChoD17d-ay"
   },
   "outputs": [],
   "source": [
    "l9=[1,2,3]\n",
    "l10=[4,5,6]"
   ]
  },
  {
   "cell_type": "code",
   "execution_count": 6,
   "metadata": {
    "executionInfo": {
     "elapsed": 2,
     "status": "ok",
     "timestamp": 1711518931528,
     "user": {
      "displayName": "Nitish Patil",
      "userId": "09015625618145133422"
     },
     "user_tz": -330
    },
    "id": "Dzyr9QEleFxA"
   },
   "outputs": [],
   "source": [
    "l9.extend(l10)"
   ]
  },
  {
   "cell_type": "code",
   "execution_count": 7,
   "metadata": {
    "colab": {
     "base_uri": "https://localhost:8080/"
    },
    "executionInfo": {
     "elapsed": 2,
     "status": "ok",
     "timestamp": 1711518938884,
     "user": {
      "displayName": "Nitish Patil",
      "userId": "09015625618145133422"
     },
     "user_tz": -330
    },
    "id": "F2GBbMyNelRL",
    "outputId": "8bf2d747-be1b-45a8-8b88-156757ab3e35"
   },
   "outputs": [
    {
     "name": "stdout",
     "output_type": "stream",
     "text": [
      "[1, 2, 3, 4, 5, 6]\n"
     ]
    }
   ],
   "source": [
    "print(l9)"
   ]
  },
  {
   "cell_type": "code",
   "execution_count": null,
   "metadata": {
    "id": "SfxTL77JenDy"
   },
   "outputs": [],
   "source": []
  }
 ],
 "metadata": {
  "colab": {
   "authorship_tag": "ABX9TyOQn9OdUJ4WO9A5o0uTCNPP",
   "provenance": []
  },
  "kernelspec": {
   "display_name": "Python 3",
   "name": "python3"
  },
  "language_info": {
   "name": "python"
  }
 },
 "nbformat": 4,
 "nbformat_minor": 0
}
