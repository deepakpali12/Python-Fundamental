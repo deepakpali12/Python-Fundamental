{
 "cells": [
  {
   "cell_type": "code",
   "execution_count": null,
   "metadata": {
    "colab": {
     "base_uri": "https://localhost:8080/"
    },
    "executionInfo": {
     "elapsed": 478,
     "status": "ok",
     "timestamp": 1727680721985,
     "user": {
      "displayName": "Nitish Patil",
      "userId": "09015625618145133422"
     },
     "user_tz": -330
    },
    "id": "n3SPI4Lv_ZuY",
    "outputId": "f25bc751-8fd3-43e2-9a7e-b5dbd34bb021"
   },
   "outputs": [
    {
     "name": "stdout",
     "output_type": "stream",
     "text": [
      "{'brand': 'BMW', 'model': 'iX', 'year': 1964}\n"
     ]
    }
   ],
   "source": [
    "# creation of dictionary\n",
    "car_dict={\"brand\":\"BMW\",\"model\":\"iX\",\"year\":1964}\n",
    "print(car_dict)"
   ]
  },
  {
   "cell_type": "code",
   "execution_count": null,
   "metadata": {
    "colab": {
     "base_uri": "https://localhost:8080/"
    },
    "executionInfo": {
     "elapsed": 455,
     "status": "ok",
     "timestamp": 1727680726648,
     "user": {
      "displayName": "Nitish Patil",
      "userId": "09015625618145133422"
     },
     "user_tz": -330
    },
    "id": "GlQq6GMxwA7L",
    "outputId": "99059b8a-4a4d-42c4-afc1-20ef83cb07ad"
   },
   "outputs": [
    {
     "name": "stdout",
     "output_type": "stream",
     "text": [
      "BMW\n"
     ]
    }
   ],
   "source": [
    "#Accessing Dictionary elements\n",
    "print(car_dict['brand'])"
   ]
  },
  {
   "cell_type": "code",
   "execution_count": null,
   "metadata": {
    "colab": {
     "base_uri": "https://localhost:8080/"
    },
    "executionInfo": {
     "elapsed": 4,
     "status": "ok",
     "timestamp": 1712647984505,
     "user": {
      "displayName": "Nitish Patil",
      "userId": "09015625618145133422"
     },
     "user_tz": -330
    },
    "id": "Jq9DLa7Xw-qr",
    "outputId": "c70a6b96-b65d-4800-9927-4d4a201efde9"
   },
   "outputs": [
    {
     "name": "stdout",
     "output_type": "stream",
     "text": [
      "3\n"
     ]
    }
   ],
   "source": [
    "# Length of Dictionary\n",
    "print(len(car_dict))"
   ]
  },
  {
   "cell_type": "code",
   "execution_count": null,
   "metadata": {
    "colab": {
     "base_uri": "https://localhost:8080/"
    },
    "executionInfo": {
     "elapsed": 5,
     "status": "ok",
     "timestamp": 1712648024660,
     "user": {
      "displayName": "Nitish Patil",
      "userId": "09015625618145133422"
     },
     "user_tz": -330
    },
    "id": "ffYEqjENxlEK",
    "outputId": "c28dcf6d-2d8d-4fb4-9a78-35a35c187122"
   },
   "outputs": [
    {
     "name": "stdout",
     "output_type": "stream",
     "text": [
      "<class 'dict'>\n"
     ]
    }
   ],
   "source": [
    "# Type of Data\n",
    "print(type(car_dict))"
   ]
  },
  {
   "cell_type": "code",
   "execution_count": null,
   "metadata": {
    "id": "SA0HCPIJxuyy"
   },
   "outputs": [],
   "source": [
    "# For Duplicate keys\n",
    "car_dict2={\"brand\":\"BMW\",\"model\":\"iX\",\"year\":1964,\"year\":2000}"
   ]
  },
  {
   "cell_type": "code",
   "execution_count": null,
   "metadata": {
    "colab": {
     "base_uri": "https://localhost:8080/"
    },
    "executionInfo": {
     "elapsed": 5,
     "status": "ok",
     "timestamp": 1712648133511,
     "user": {
      "displayName": "Nitish Patil",
      "userId": "09015625618145133422"
     },
     "user_tz": -330
    },
    "id": "Kb_aYoRoyEwG",
    "outputId": "fd6e306b-e348-4d65-da94-2782f5577168"
   },
   "outputs": [
    {
     "data": {
      "text/plain": [
       "{'brand': 'BMW', 'model': 'iX', 'year': 2000}"
      ]
     },
     "execution_count": 8,
     "metadata": {},
     "output_type": "execute_result"
    }
   ],
   "source": [
    "car_dict2"
   ]
  },
  {
   "cell_type": "code",
   "execution_count": null,
   "metadata": {
    "id": "Q5bs5htkiSEy"
   },
   "outputs": [],
   "source": [
    "car_dict3={\"brand\":\"BMW\",\"model\":\"iX\",\"year\":2024,\"year\":2000}"
   ]
  },
  {
   "cell_type": "code",
   "execution_count": null,
   "metadata": {
    "colab": {
     "base_uri": "https://localhost:8080/"
    },
    "executionInfo": {
     "elapsed": 3,
     "status": "ok",
     "timestamp": 1727760288114,
     "user": {
      "displayName": "Nitish Patil",
      "userId": "09015625618145133422"
     },
     "user_tz": -330
    },
    "id": "ZLZEIP_viXVp",
    "outputId": "25a27d86-d1d6-4cb1-f709-029d6df0e11d"
   },
   "outputs": [
    {
     "data": {
      "text/plain": [
       "{'brand': 'BMW', 'model': 'iX', 'year': 2000}"
      ]
     },
     "execution_count": 2,
     "metadata": {},
     "output_type": "execute_result"
    }
   ],
   "source": [
    "car_dict3"
   ]
  },
  {
   "cell_type": "code",
   "execution_count": null,
   "metadata": {
    "id": "_PnidISvyJWi"
   },
   "outputs": [],
   "source": [
    "# For Accessing Dict items\n",
    "x=car_dict.get(\"model\")"
   ]
  },
  {
   "cell_type": "code",
   "execution_count": null,
   "metadata": {
    "colab": {
     "base_uri": "https://localhost:8080/",
     "height": 36
    },
    "executionInfo": {
     "elapsed": 5,
     "status": "ok",
     "timestamp": 1712648242685,
     "user": {
      "displayName": "Nitish Patil",
      "userId": "09015625618145133422"
     },
     "user_tz": -330
    },
    "id": "4ArsJ9TxyiwS",
    "outputId": "292ffee5-c9a3-40c0-95ef-41a6a65e346c"
   },
   "outputs": [
    {
     "data": {
      "application/vnd.google.colaboratory.intrinsic+json": {
       "type": "string"
      },
      "text/plain": [
       "'iX'"
      ]
     },
     "execution_count": 10,
     "metadata": {},
     "output_type": "execute_result"
    }
   ],
   "source": [
    "x"
   ]
  },
  {
   "cell_type": "code",
   "execution_count": null,
   "metadata": {
    "colab": {
     "base_uri": "https://localhost:8080/"
    },
    "executionInfo": {
     "elapsed": 5,
     "status": "ok",
     "timestamp": 1712648330556,
     "user": {
      "displayName": "Nitish Patil",
      "userId": "09015625618145133422"
     },
     "user_tz": -330
    },
    "id": "PZT0E-4Fyj_S",
    "outputId": "ee13efa3-c624-4979-e22b-d8c5926c4ea6"
   },
   "outputs": [
    {
     "data": {
      "text/plain": [
       "dict_keys(['brand', 'model', 'year'])"
      ]
     },
     "execution_count": 11,
     "metadata": {},
     "output_type": "execute_result"
    }
   ],
   "source": [
    "#The keys() method will return a list of all the keys in the dictionary.\n",
    "car_dict.keys()"
   ]
  },
  {
   "cell_type": "code",
   "execution_count": null,
   "metadata": {
    "colab": {
     "base_uri": "https://localhost:8080/"
    },
    "executionInfo": {
     "elapsed": 2,
     "status": "ok",
     "timestamp": 1712648351407,
     "user": {
      "displayName": "Nitish Patil",
      "userId": "09015625618145133422"
     },
     "user_tz": -330
    },
    "id": "fTiDsMQ4y5WC",
    "outputId": "b3a4b0dd-5623-4d07-c515-5c7424474801"
   },
   "outputs": [
    {
     "data": {
      "text/plain": [
       "dict_values(['BMW', 'iX', 1964])"
      ]
     },
     "execution_count": 12,
     "metadata": {},
     "output_type": "execute_result"
    }
   ],
   "source": [
    "#The values() method will return a list of all the values in the dictionary.\n",
    "\n",
    "car_dict.values()"
   ]
  },
  {
   "cell_type": "code",
   "execution_count": null,
   "metadata": {
    "id": "8DQliYaiy-ka"
   },
   "outputs": [],
   "source": [
    "# To change vlaues of Dictionary\n",
    "car_dict[\"year\"]=2024"
   ]
  },
  {
   "cell_type": "code",
   "execution_count": null,
   "metadata": {
    "colab": {
     "base_uri": "https://localhost:8080/"
    },
    "executionInfo": {
     "elapsed": 5,
     "status": "ok",
     "timestamp": 1712648539794,
     "user": {
      "displayName": "Nitish Patil",
      "userId": "09015625618145133422"
     },
     "user_tz": -330
    },
    "id": "-NzLiAqrzrD6",
    "outputId": "2af2750d-2669-42b6-a751-0ae7eb3dda49"
   },
   "outputs": [
    {
     "data": {
      "text/plain": [
       "{'brand': 'BMW', 'model': 'iX', 'year': 2024}"
      ]
     },
     "execution_count": 14,
     "metadata": {},
     "output_type": "execute_result"
    }
   ],
   "source": [
    "car_dict"
   ]
  },
  {
   "cell_type": "code",
   "execution_count": null,
   "metadata": {
    "id": "mpLtF3f_zslz"
   },
   "outputs": [],
   "source": [
    "# To add new key:value in dictionary\n",
    "car_dict[\"color\"]=\"White\""
   ]
  },
  {
   "cell_type": "code",
   "execution_count": null,
   "metadata": {
    "colab": {
     "base_uri": "https://localhost:8080/"
    },
    "executionInfo": {
     "elapsed": 422,
     "status": "ok",
     "timestamp": 1712648660401,
     "user": {
      "displayName": "Nitish Patil",
      "userId": "09015625618145133422"
     },
     "user_tz": -330
    },
    "id": "gUswvYwm0E_w",
    "outputId": "b30179f0-c01b-4b4c-85ee-345d3ec8f494"
   },
   "outputs": [
    {
     "data": {
      "text/plain": [
       "{'brand': 'BMW', 'model': 'iX', 'year': 2024, 'color': 'White'}"
      ]
     },
     "execution_count": 18,
     "metadata": {},
     "output_type": "execute_result"
    }
   ],
   "source": [
    "car_dict"
   ]
  },
  {
   "cell_type": "code",
   "execution_count": 1,
   "metadata": {
    "executionInfo": {
     "elapsed": 1087,
     "status": "ok",
     "timestamp": 1728286542384,
     "user": {
      "displayName": "Nitish Patil",
      "userId": "09015625618145133422"
     },
     "user_tz": -330
    },
    "id": "jEx0VEdl0HK6"
   },
   "outputs": [],
   "source": [
    "#The values in dictionary items can be of any data type\n",
    "d3={\"name\":\"A\",'year':2023,'Pass':True,'Marks':[50,60,70]}"
   ]
  },
  {
   "cell_type": "code",
   "execution_count": 2,
   "metadata": {
    "colab": {
     "base_uri": "https://localhost:8080/"
    },
    "executionInfo": {
     "elapsed": 841,
     "status": "ok",
     "timestamp": 1728286546698,
     "user": {
      "displayName": "Nitish Patil",
      "userId": "09015625618145133422"
     },
     "user_tz": -330
    },
    "id": "RWzOxp_tj6Fn",
    "outputId": "112de16b-6f75-4d45-8ca8-5c2627030ed1"
   },
   "outputs": [
    {
     "name": "stdout",
     "output_type": "stream",
     "text": [
      "{'name': 'A', 'year': 2023, 'Pass': True, 'Marks': [50, 60, 70]}\n"
     ]
    }
   ],
   "source": [
    "print(d3)"
   ]
  },
  {
   "cell_type": "code",
   "execution_count": null,
   "metadata": {
    "id": "MWWueko2kBIw"
   },
   "outputs": [],
   "source": [
    "d3.update({'year':2024})"
   ]
  },
  {
   "cell_type": "code",
   "execution_count": null,
   "metadata": {
    "id": "hFz3zKEUlaQY"
   },
   "outputs": [],
   "source": [
    "d3['phone_no']=94566"
   ]
  },
  {
   "cell_type": "code",
   "execution_count": null,
   "metadata": {
    "colab": {
     "base_uri": "https://localhost:8080/"
    },
    "executionInfo": {
     "elapsed": 5,
     "status": "ok",
     "timestamp": 1712728876625,
     "user": {
      "displayName": "Nitish Patil",
      "userId": "09015625618145133422"
     },
     "user_tz": -330
    },
    "id": "2tnIxmKPmI2J",
    "outputId": "58172bf8-1bf2-4487-8075-bccba1441671"
   },
   "outputs": [
    {
     "data": {
      "text/plain": [
       "{'name': 'A',\n",
       " 'year': 2024,\n",
       " 'Pass': True,\n",
       " 'Marks': [50, 60, 70],\n",
       " 'phone_no': 94566}"
      ]
     },
     "execution_count": 6,
     "metadata": {},
     "output_type": "execute_result"
    }
   ],
   "source": [
    "d3"
   ]
  },
  {
   "cell_type": "code",
   "execution_count": null,
   "metadata": {
    "id": "8K37JlshmJ_i"
   },
   "outputs": [],
   "source": [
    "d3.update({'email':'asdf@gmail.com'})"
   ]
  },
  {
   "cell_type": "code",
   "execution_count": null,
   "metadata": {
    "colab": {
     "base_uri": "https://localhost:8080/"
    },
    "executionInfo": {
     "elapsed": 6,
     "status": "ok",
     "timestamp": 1712728942182,
     "user": {
      "displayName": "Nitish Patil",
      "userId": "09015625618145133422"
     },
     "user_tz": -330
    },
    "id": "KdJRl87zmVw5",
    "outputId": "b8df1976-3e8b-4c3a-dadd-f2926284e274"
   },
   "outputs": [
    {
     "data": {
      "text/plain": [
       "{'name': 'A',\n",
       " 'year': 2024,\n",
       " 'Pass': True,\n",
       " 'Marks': [50, 60, 70],\n",
       " 'phone_no': 94566,\n",
       " 'email': 'asdf@gmail.com'}"
      ]
     },
     "execution_count": 9,
     "metadata": {},
     "output_type": "execute_result"
    }
   ],
   "source": [
    "d3"
   ]
  },
  {
   "cell_type": "code",
   "execution_count": null,
   "metadata": {
    "colab": {
     "base_uri": "https://localhost:8080/"
    },
    "executionInfo": {
     "elapsed": 5,
     "status": "ok",
     "timestamp": 1712729142657,
     "user": {
      "displayName": "Nitish Patil",
      "userId": "09015625618145133422"
     },
     "user_tz": -330
    },
    "id": "hH7TRkrwmZ_h",
    "outputId": "19b579eb-6cc7-4dae-e85a-6e7793cd08bd"
   },
   "outputs": [
    {
     "data": {
      "text/plain": [
       "94566"
      ]
     },
     "execution_count": 10,
     "metadata": {},
     "output_type": "execute_result"
    }
   ],
   "source": [
    "# For Removing Dictionary items\n",
    "#The pop() method removes the item with the specified key name:\n",
    "\n",
    "d3.pop('phone_no')"
   ]
  },
  {
   "cell_type": "code",
   "execution_count": null,
   "metadata": {
    "colab": {
     "base_uri": "https://localhost:8080/"
    },
    "executionInfo": {
     "elapsed": 3,
     "status": "ok",
     "timestamp": 1712729148647,
     "user": {
      "displayName": "Nitish Patil",
      "userId": "09015625618145133422"
     },
     "user_tz": -330
    },
    "id": "-ZNmcS1xnLFg",
    "outputId": "e4a89b36-dc4d-4e3c-e2e6-1338decbee19"
   },
   "outputs": [
    {
     "data": {
      "text/plain": [
       "{'name': 'A',\n",
       " 'year': 2024,\n",
       " 'Pass': True,\n",
       " 'Marks': [50, 60, 70],\n",
       " 'email': 'asdf@gmail.com'}"
      ]
     },
     "execution_count": 11,
     "metadata": {},
     "output_type": "execute_result"
    }
   ],
   "source": [
    "d3"
   ]
  },
  {
   "cell_type": "code",
   "execution_count": null,
   "metadata": {
    "colab": {
     "base_uri": "https://localhost:8080/"
    },
    "executionInfo": {
     "elapsed": 6,
     "status": "ok",
     "timestamp": 1712729163020,
     "user": {
      "displayName": "Nitish Patil",
      "userId": "09015625618145133422"
     },
     "user_tz": -330
    },
    "id": "kKK4_uh1nMjg",
    "outputId": "6c49e7f4-af13-40d1-be57-13cc2bf8f8d3"
   },
   "outputs": [
    {
     "data": {
      "text/plain": [
       "('email', 'asdf@gmail.com')"
      ]
     },
     "execution_count": 12,
     "metadata": {},
     "output_type": "execute_result"
    }
   ],
   "source": [
    "#The popitem() method removes the last inserted item\n",
    "d3.popitem()"
   ]
  },
  {
   "cell_type": "code",
   "execution_count": null,
   "metadata": {
    "colab": {
     "base_uri": "https://localhost:8080/"
    },
    "executionInfo": {
     "elapsed": 5,
     "status": "ok",
     "timestamp": 1712729170099,
     "user": {
      "displayName": "Nitish Patil",
      "userId": "09015625618145133422"
     },
     "user_tz": -330
    },
    "id": "AvEo4Bg8nQDg",
    "outputId": "209eea9d-c2d4-46e7-c503-6c1825f4c1b6"
   },
   "outputs": [
    {
     "data": {
      "text/plain": [
       "{'name': 'A', 'year': 2024, 'Pass': True, 'Marks': [50, 60, 70]}"
      ]
     },
     "execution_count": 13,
     "metadata": {},
     "output_type": "execute_result"
    }
   ],
   "source": [
    "d3"
   ]
  },
  {
   "cell_type": "code",
   "execution_count": null,
   "metadata": {
    "colab": {
     "base_uri": "https://localhost:8080/",
     "height": 147
    },
    "executionInfo": {
     "elapsed": 7,
     "status": "error",
     "timestamp": 1712729187369,
     "user": {
      "displayName": "Nitish Patil",
      "userId": "09015625618145133422"
     },
     "user_tz": -330
    },
    "id": "9Pz2jslHnRuA",
    "outputId": "694fb391-f015-4381-a86e-22c867b37278"
   },
   "outputs": [
    {
     "ename": "TypeError",
     "evalue": "pop expected at least 1 argument, got 0",
     "output_type": "error",
     "traceback": [
      "\u001b[0;31m---------------------------------------------------------------------------\u001b[0m",
      "\u001b[0;31mTypeError\u001b[0m                                 Traceback (most recent call last)",
      "\u001b[0;32m<ipython-input-14-c768210e5bce>\u001b[0m in \u001b[0;36m<cell line: 1>\u001b[0;34m()\u001b[0m\n\u001b[0;32m----> 1\u001b[0;31m \u001b[0md3\u001b[0m\u001b[0;34m.\u001b[0m\u001b[0mpop\u001b[0m\u001b[0;34m(\u001b[0m\u001b[0;34m)\u001b[0m\u001b[0;34m\u001b[0m\u001b[0;34m\u001b[0m\u001b[0m\n\u001b[0m",
      "\u001b[0;31mTypeError\u001b[0m: pop expected at least 1 argument, got 0"
     ]
    }
   ],
   "source": [
    "d3.pop()"
   ]
  },
  {
   "cell_type": "code",
   "execution_count": null,
   "metadata": {
    "id": "HR-WRZuanWC-"
   },
   "outputs": [],
   "source": [
    "#The del keyword removes the item with the specified key name:\n",
    "\n",
    "del d3['Marks']"
   ]
  },
  {
   "cell_type": "code",
   "execution_count": null,
   "metadata": {
    "colab": {
     "base_uri": "https://localhost:8080/"
    },
    "executionInfo": {
     "elapsed": 399,
     "status": "ok",
     "timestamp": 1712729373255,
     "user": {
      "displayName": "Nitish Patil",
      "userId": "09015625618145133422"
     },
     "user_tz": -330
    },
    "id": "sHW9B0s9n3xg",
    "outputId": "0591e4d9-c95c-491d-f93d-1553ab32b35b"
   },
   "outputs": [
    {
     "data": {
      "text/plain": [
       "{'name': 'A', 'year': 2024, 'Pass': True}"
      ]
     },
     "execution_count": 19,
     "metadata": {},
     "output_type": "execute_result"
    }
   ],
   "source": [
    "d3"
   ]
  },
  {
   "cell_type": "code",
   "execution_count": null,
   "metadata": {
    "id": "yO_UnlmIf-b1"
   },
   "outputs": [],
   "source": [
    "#The del keyword can also delete the dictionary completely:\n",
    "del d3"
   ]
  },
  {
   "cell_type": "code",
   "execution_count": null,
   "metadata": {
    "id": "1es7-r_Hn_pO"
   },
   "outputs": [],
   "source": [
    "#The clear() method empties the dictionary:\n",
    "d3.clear()"
   ]
  },
  {
   "cell_type": "code",
   "execution_count": null,
   "metadata": {
    "colab": {
     "base_uri": "https://localhost:8080/"
    },
    "executionInfo": {
     "elapsed": 3,
     "status": "ok",
     "timestamp": 1712729393445,
     "user": {
      "displayName": "Nitish Patil",
      "userId": "09015625618145133422"
     },
     "user_tz": -330
    },
    "id": "KHTweJBcoHYv",
    "outputId": "900cf4d8-6d41-4bcd-d4af-6d2692f0e086"
   },
   "outputs": [
    {
     "data": {
      "text/plain": [
       "{}"
      ]
     },
     "execution_count": 21,
     "metadata": {},
     "output_type": "execute_result"
    }
   ],
   "source": [
    "d3"
   ]
  },
  {
   "cell_type": "code",
   "execution_count": null,
   "metadata": {
    "id": "c67I2zPWoIQ_"
   },
   "outputs": [],
   "source": [
    "# Copy Dictionary\n",
    "d3={\"name\":\"A\",'year':2023,'Pass':True,'Marks':[50,60,70]}"
   ]
  },
  {
   "cell_type": "code",
   "execution_count": null,
   "metadata": {
    "colab": {
     "base_uri": "https://localhost:8080/"
    },
    "executionInfo": {
     "elapsed": 4,
     "status": "ok",
     "timestamp": 1712729649148,
     "user": {
      "displayName": "Nitish Patil",
      "userId": "09015625618145133422"
     },
     "user_tz": -330
    },
    "id": "0VioWM9bpEWY",
    "outputId": "f8d915a3-89ab-461c-9bb7-b8d0ce7c3c1a"
   },
   "outputs": [
    {
     "data": {
      "text/plain": [
       "{'name': 'A', 'year': 2023, 'Pass': True, 'Marks': [50, 60, 70]}"
      ]
     },
     "execution_count": 23,
     "metadata": {},
     "output_type": "execute_result"
    }
   ],
   "source": [
    "d3"
   ]
  },
  {
   "cell_type": "code",
   "execution_count": null,
   "metadata": {
    "id": "qdH7RoXJpGvI"
   },
   "outputs": [],
   "source": [
    "d4= d3.copy()"
   ]
  },
  {
   "cell_type": "code",
   "execution_count": null,
   "metadata": {
    "colab": {
     "base_uri": "https://localhost:8080/"
    },
    "executionInfo": {
     "elapsed": 3,
     "status": "ok",
     "timestamp": 1712729672909,
     "user": {
      "displayName": "Nitish Patil",
      "userId": "09015625618145133422"
     },
     "user_tz": -330
    },
    "id": "8c-uq0dnpLax",
    "outputId": "e6371640-903b-4619-bcfc-dd9379d50a00"
   },
   "outputs": [
    {
     "data": {
      "text/plain": [
       "{'name': 'A', 'year': 2023, 'Pass': True, 'Marks': [50, 60, 70]}"
      ]
     },
     "execution_count": 25,
     "metadata": {},
     "output_type": "execute_result"
    }
   ],
   "source": [
    "d4"
   ]
  },
  {
   "cell_type": "code",
   "execution_count": null,
   "metadata": {
    "id": "Ryu_1RvxpMah"
   },
   "outputs": [],
   "source": [
    "d5=dict(d4)"
   ]
  },
  {
   "cell_type": "code",
   "execution_count": null,
   "metadata": {
    "colab": {
     "base_uri": "https://localhost:8080/"
    },
    "executionInfo": {
     "elapsed": 365,
     "status": "ok",
     "timestamp": 1712729710755,
     "user": {
      "displayName": "Nitish Patil",
      "userId": "09015625618145133422"
     },
     "user_tz": -330
    },
    "id": "Urj2JbaQpUkQ",
    "outputId": "88529380-21cf-447c-97a4-a60418754874"
   },
   "outputs": [
    {
     "data": {
      "text/plain": [
       "{'name': 'A', 'year': 2023, 'Pass': True, 'Marks': [50, 60, 70]}"
      ]
     },
     "execution_count": 27,
     "metadata": {},
     "output_type": "execute_result"
    }
   ],
   "source": [
    "d5"
   ]
  },
  {
   "cell_type": "code",
   "execution_count": null,
   "metadata": {
    "id": "-niXQc1tpVi4"
   },
   "outputs": [],
   "source": [
    "# Nested Dictionaries"
   ]
  },
  {
   "cell_type": "code",
   "execution_count": null,
   "metadata": {
    "id": "vxxTIcNtUGTg"
   },
   "outputs": [],
   "source": [
    "myfamily = {\n",
    "  \"child1\" : {\n",
    "    \"name\" : \"Emil\",\n",
    "    \"year\" : 2004\n",
    "  },\n",
    "  \"child2\" : {\n",
    "    \"name\" : \"Tobias\",\n",
    "    \"year\" : 2007\n",
    "  },\n",
    "  \"child3\" : {\n",
    "    \"name\" : \"Linus\",\n",
    "    \"year\" : 2011\n",
    "  }\n",
    "}"
   ]
  },
  {
   "cell_type": "code",
   "execution_count": null,
   "metadata": {
    "colab": {
     "base_uri": "https://localhost:8080/"
    },
    "executionInfo": {
     "elapsed": 674,
     "status": "ok",
     "timestamp": 1728025013092,
     "user": {
      "displayName": "Nitish Patil",
      "userId": "09015625618145133422"
     },
     "user_tz": -330
    },
    "id": "cTSdCHvaUJoo",
    "outputId": "7f636553-87da-42c3-b264-dead4c97b167"
   },
   "outputs": [
    {
     "data": {
      "text/plain": [
       "{'child1': {'name': 'Emil', 'year': 2004},\n",
       " 'child2': {'name': 'Tobias', 'year': 2007},\n",
       " 'child3': {'name': 'Linus', 'year': 2011}}"
      ]
     },
     "execution_count": 2,
     "metadata": {},
     "output_type": "execute_result"
    }
   ],
   "source": [
    "myfamily"
   ]
  },
  {
   "cell_type": "code",
   "execution_count": null,
   "metadata": {
    "id": "_xnV88XFUR0D"
   },
   "outputs": [],
   "source": [
    "myfamily1 = {\n",
    "  \"child1\" : {\n",
    "    \"name\" : \"Emil\",\n",
    "    \"year\" : 2004\n",
    "  },\n",
    "  \"child2\" : {\n",
    "    \"name\" : \"Tobias\",\n",
    "    \"year\" : 2007\n",
    "  },\n",
    "  \"child3\" : {\n",
    "    \"name\" : \"Linus\",\n",
    "    \"year\" : 2011\n",
    "  }\n",
    "}\n"
   ]
  },
  {
   "cell_type": "code",
   "execution_count": null,
   "metadata": {
    "colab": {
     "base_uri": "https://localhost:8080/"
    },
    "executionInfo": {
     "elapsed": 2,
     "status": "ok",
     "timestamp": 1728025108299,
     "user": {
      "displayName": "Nitish Patil",
      "userId": "09015625618145133422"
     },
     "user_tz": -330
    },
    "id": "wt83x9LAUeiW",
    "outputId": "4a0d21d6-421f-4511-aeb9-c4fd866f8ea4"
   },
   "outputs": [
    {
     "data": {
      "text/plain": [
       "{'child1': {'name': 'Emil', 'year': 2004},\n",
       " 'child2': {'name': 'Tobias', 'year': 2007},\n",
       " 'child3': {'name': 'Linus', 'year': 2011}}"
      ]
     },
     "execution_count": 7,
     "metadata": {},
     "output_type": "execute_result"
    }
   ],
   "source": [
    "myfamily1"
   ]
  },
  {
   "cell_type": "code",
   "execution_count": null,
   "metadata": {
    "colab": {
     "base_uri": "https://localhost:8080/"
    },
    "executionInfo": {
     "elapsed": 690,
     "status": "ok",
     "timestamp": 1728025139589,
     "user": {
      "displayName": "Nitish Patil",
      "userId": "09015625618145133422"
     },
     "user_tz": -330
    },
    "id": "tDtPF3nXUhMN",
    "outputId": "d5875096-2179-4d34-a57a-4448d29b8661"
   },
   "outputs": [
    {
     "name": "stdout",
     "output_type": "stream",
     "text": [
      "Tobias\n"
     ]
    }
   ],
   "source": [
    "print(myfamily[\"child2\"][\"name\"])"
   ]
  },
  {
   "cell_type": "code",
   "execution_count": null,
   "metadata": {
    "id": "4A1yUVerUxPW"
   },
   "outputs": [],
   "source": []
  }
 ],
 "metadata": {
  "colab": {
   "authorship_tag": "ABX9TyMN+OurkRY0BhoPlUC2Yzdu",
   "provenance": []
  },
  "kernelspec": {
   "display_name": "base",
   "language": "python",
   "name": "python3"
  },
  "language_info": {
   "codemirror_mode": {
    "name": "ipython",
    "version": 3
   },
   "file_extension": ".py",
   "mimetype": "text/x-python",
   "name": "python",
   "nbconvert_exporter": "python",
   "pygments_lexer": "ipython3",
   "version": "3.12.7"
  }
 },
 "nbformat": 4,
 "nbformat_minor": 0
}
