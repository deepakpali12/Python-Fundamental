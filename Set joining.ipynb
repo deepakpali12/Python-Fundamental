{
 "cells": [
  {
   "cell_type": "code",
   "execution_count": null,
   "id": "7fa4fb56",
   "metadata": {},
   "outputs": [
    {
     "name": "stdout",
     "output_type": "stream",
     "text": [
      "{'x', 'y', 'z', 6, 7, 8}\n"
     ]
    }
   ],
   "source": [
    "# join sets\n",
    "#Union Method\n",
    "set1= {\"x\",\"y\",\"z\"}\n",
    "set2={6,7,8}\n",
    "set3=set1.union(set2)\n",
    "print(set3)"
   ]
  },
  {
   "cell_type": "code",
   "execution_count": null,
   "id": "5cf9b783",
   "metadata": {},
   "outputs": [
    {
     "name": "stdout",
     "output_type": "stream",
     "text": [
      "{'x', 'y', 'z', 6, 7, 8}\n"
     ]
    }
   ],
   "source": [
    "# | Operator\n",
    "set1= {\"x\",\"y\",\"z\"}\n",
    "set2={6,7,8}\n",
    "set3= set1 | set2\n",
    "print(set3)"
   ]
  },
  {
   "cell_type": "code",
   "execution_count": null,
   "id": "0c658029",
   "metadata": {},
   "outputs": [
    {
     "name": "stdout",
     "output_type": "stream",
     "text": [
      "{'x', 'Kong', 6, 7, 8, 'King', 'Motu', 'y', 'z', 'Patlu'}\n"
     ]
    }
   ],
   "source": [
    "#Join mutiple sets\n",
    "set1= {\"x\",\"y\",\"z\"}\n",
    "set2={6,7,8}\n",
    "set3={'Motu','Patlu'}\n",
    "set4={'King','Kong'}\n",
    "largeset=set1.union(set2,set3,set4)\n",
    "print(largeset)"
   ]
  },
  {
   "cell_type": "code",
   "execution_count": null,
   "id": "56677b80",
   "metadata": {},
   "outputs": [
    {
     "name": "stdout",
     "output_type": "stream",
     "text": [
      "{'x', 'Kong', 6, 7, 8, 'King', 'Motu', 'y', 'z', 'Patlu'}\n"
     ]
    }
   ],
   "source": [
    "set1= {\"x\",\"y\",\"z\"}\n",
    "set2={6,7,8}\n",
    "set3={'Motu','Patlu'}\n",
    "set4={'King','Kong'}\n",
    "largeset=set1 |set2 |set3 |set4\n",
    "print(largeset)"
   ]
  },
  {
   "cell_type": "code",
   "execution_count": null,
   "id": "e099b91e",
   "metadata": {},
   "outputs": [
    {
     "name": "stdout",
     "output_type": "stream",
     "text": [
      "{'x', 'y', 'z', 6, 7, 8}\n"
     ]
    }
   ],
   "source": [
    "#update Method\n",
    "set1= {\"x\",\"y\",\"z\"}\n",
    "set2={6,7,8}\n",
    "set1.update(set2)\n",
    "print(set1)"
   ]
  },
  {
   "cell_type": "code",
   "execution_count": null,
   "id": "94ba829f",
   "metadata": {},
   "outputs": [
    {
     "name": "stdout",
     "output_type": "stream",
     "text": [
      "{'x'}\n"
     ]
    }
   ],
   "source": [
    "#intersection method\n",
    "set1= {\"x\",\"y\",\"z\"}\n",
    "set2={6,7,8,\"x\"}\n",
    "set3= set1.intersection(set2)\n",
    "print(set3)"
   ]
  },
  {
   "cell_type": "code",
   "execution_count": null,
   "id": "dd633d11",
   "metadata": {},
   "outputs": [
    {
     "name": "stdout",
     "output_type": "stream",
     "text": [
      "{'x'}\n"
     ]
    }
   ],
   "source": [
    "# & operator\n",
    "set1= {\"x\",\"y\",\"z\"}\n",
    "set2={6,7,8,\"x\"}\n",
    "set3= set1 & set2\n",
    "print(set3)"
   ]
  },
  {
   "cell_type": "code",
   "execution_count": null,
   "id": "683ac3cc",
   "metadata": {},
   "outputs": [
    {
     "name": "stdout",
     "output_type": "stream",
     "text": [
      "{'y', 'z'}\n"
     ]
    }
   ],
   "source": [
    "# difference method\n",
    "set1= {\"x\",\"y\",\"z\"}\n",
    "set2={6,7,8,\"x\"}\n",
    "set3= set1.difference(set2)\n",
    "print(set3)"
   ]
  },
  {
   "cell_type": "code",
   "execution_count": null,
   "id": "8b0eebc7",
   "metadata": {},
   "outputs": [
    {
     "name": "stdout",
     "output_type": "stream",
     "text": [
      "{8, 6, 7}\n"
     ]
    }
   ],
   "source": [
    "set1= {\"x\",\"y\",\"z\"}\n",
    "set2={6,7,8,\"x\"}\n",
    "set3= set2.difference(set1)\n",
    "print(set3)"
   ]
  },
  {
   "cell_type": "code",
   "execution_count": null,
   "id": "f939561d",
   "metadata": {},
   "outputs": [],
   "source": []
  }
 ],
 "metadata": {
  "language_info": {
   "name": "python"
  }
 },
 "nbformat": 4,
 "nbformat_minor": 5
}
