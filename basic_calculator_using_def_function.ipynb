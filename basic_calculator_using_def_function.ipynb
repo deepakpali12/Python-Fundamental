{
 "cells": [
  {
   "cell_type": "code",
   "execution_count": null,
   "id": "b46c032f-20e9-481a-8f2b-fde8423b1b1b",
   "metadata": {},
   "outputs": [
    {
     "name": "stdout",
     "output_type": "stream",
     "text": [
      "Welcome to the Python Calculator!\n",
      "Available operations: +, -, *, /\n"
     ]
    }
   ],
   "source": [
    "def calculator():\n",
    "    print(\"Welcome to the Python Calculator!\")\n",
    "    print(\"Available operations: +, -, *, /\")\n",
    "\n",
    "    try:\n",
    "        num1 = float(input(\"Enter the first number: \"))\n",
    "        op = input(\"Enter an operator (+, -, *, /): \")\n",
    "        num2 = float(input(\"Enter the second number: \"))\n",
    "\n",
    "        if op == '+':\n",
    "            result = num1 + num2\n",
    "        elif op == '-':\n",
    "            result = num1 - num2\n",
    "        elif op == '*':\n",
    "            result = num1 * num2\n",
    "        elif op == '/':\n",
    "            if num2 != 0:\n",
    "                result = num1 / num2\n",
    "            else:\n",
    "                print(\"Error: Division by zero!\")\n",
    "                return\n",
    "        else:\n",
    "            print(\"Invalid operator!\")\n",
    "            return\n",
    "\n",
    "        print(f\"Result: {result}\")\n",
    "    except ValueError:\n",
    "        print(\"Invalid input. Please enter numeric values.\")\n",
    "\n",
    "# Run the calculator\n",
    "calculator()"
   ]
  },
  {
   "cell_type": "code",
   "execution_count": null,
   "id": "39bcb680-c475-425a-bce9-60e49b48ef18",
   "metadata": {},
   "outputs": [],
   "source": [
    "\n",
    "    \n",
    "    "
   ]
  }
 ],
 "metadata": {
  "kernelspec": {
   "display_name": "Python [conda env:base] *",
   "language": "python",
   "name": "conda-base-py"
  },
  "language_info": {
   "codemirror_mode": {
    "name": "ipython",
    "version": 3
   },
   "file_extension": ".py",
   "mimetype": "text/x-python",
   "name": "python",
   "nbconvert_exporter": "python",
   "pygments_lexer": "ipython3",
   "version": "3.12.7"
  }
 },
 "nbformat": 4,
 "nbformat_minor": 5
}
