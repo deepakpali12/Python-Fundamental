{
 "cells": [
  {
   "cell_type": "code",
   "execution_count": null,
   "metadata": {
    "colab": {
     "base_uri": "https://localhost:8080/"
    },
    "executionInfo": {
     "elapsed": 6,
     "status": "ok",
     "timestamp": 1712042625444,
     "user": {
      "displayName": "Nitish Patil",
      "userId": "09015625618145133422"
     },
     "user_tz": -330
    },
    "id": "qK26E_2KsK6y",
    "outputId": "b827bb59-a72f-4e0a-92e6-94f2054d9b20"
   },
   "outputs": [
    {
     "name": "stdout",
     "output_type": "stream",
     "text": [
      "Hello AAFT\n"
     ]
    }
   ],
   "source": [
    "print(\"Hello AAFT\")"
   ]
  },
  {
   "cell_type": "code",
   "execution_count": null,
   "metadata": {
    "colab": {
     "base_uri": "https://localhost:8080/"
    },
    "executionInfo": {
     "elapsed": 370,
     "status": "ok",
     "timestamp": 1712043412986,
     "user": {
      "displayName": "Nitish Patil",
      "userId": "09015625618145133422"
     },
     "user_tz": -330
    },
    "id": "FI9OF7PisSUG",
    "outputId": "7bedbc17-dce8-4efb-a09e-2c72d10771e6"
   },
   "outputs": [
    {
     "name": "stdout",
     "output_type": "stream",
     "text": [
      "Hello,AAFT\n"
     ]
    }
   ],
   "source": [
    "a='Hello,AAFT'\n",
    "print(a)"
   ]
  },
  {
   "cell_type": "code",
   "execution_count": null,
   "metadata": {
    "id": "-wd5E4CEshBT"
   },
   "outputs": [],
   "source": [
    "b=\"\"\" Himanshu is naughty boy.\n",
    "Yash is not saying anything.\n",
    "Gungun is not practicing Python.\"\"\""
   ]
  },
  {
   "cell_type": "code",
   "execution_count": null,
   "metadata": {
    "colab": {
     "base_uri": "https://localhost:8080/"
    },
    "executionInfo": {
     "elapsed": 521,
     "status": "ok",
     "timestamp": 1712043300134,
     "user": {
      "displayName": "Nitish Patil",
      "userId": "09015625618145133422"
     },
     "user_tz": -330
    },
    "id": "rIdBbrsSs1DN",
    "outputId": "34eb9d3f-a212-45a8-eec2-50ea8f9479ce"
   },
   "outputs": [
    {
     "name": "stdout",
     "output_type": "stream",
     "text": [
      " Himanshu is naughty boy.\n",
      "Yash is not saying anything.\n",
      "Gungun is not practicing Python.\n"
     ]
    }
   ],
   "source": [
    "print(b)"
   ]
  },
  {
   "cell_type": "code",
   "execution_count": null,
   "metadata": {
    "colab": {
     "base_uri": "https://localhost:8080/"
    },
    "executionInfo": {
     "elapsed": 4,
     "status": "ok",
     "timestamp": 1712043423390,
     "user": {
      "displayName": "Nitish Patil",
      "userId": "09015625618145133422"
     },
     "user_tz": -330
    },
    "id": "dntMlzN4s37E",
    "outputId": "926f3b74-999e-49cb-db1f-7f29ccbc1b20"
   },
   "outputs": [
    {
     "name": "stdout",
     "output_type": "stream",
     "text": [
      "e\n"
     ]
    }
   ],
   "source": [
    "print(a[1])"
   ]
  },
  {
   "cell_type": "code",
   "execution_count": 1,
   "metadata": {
    "colab": {
     "base_uri": "https://localhost:8080/"
    },
    "executionInfo": {
     "elapsed": 7,
     "status": "ok",
     "timestamp": 1712124029545,
     "user": {
      "displayName": "Nitish Patil",
      "userId": "09015625618145133422"
     },
     "user_tz": -330
    },
    "id": "kCRWMb1Eu6Eo",
    "outputId": "dafe94d4-7f14-4eb7-880a-f2e313562202"
   },
   "outputs": [
    {
     "name": "stdout",
     "output_type": "stream",
     "text": [
      "3\n"
     ]
    }
   ],
   "source": [
    "s1= \"aaft aaft aaft sods\"\n",
    "x=s1.count(\"aaft\")\n",
    "print(x)"
   ]
  },
  {
   "cell_type": "code",
   "execution_count": 2,
   "metadata": {
    "colab": {
     "base_uri": "https://localhost:8080/"
    },
    "executionInfo": {
     "elapsed": 4,
     "status": "ok",
     "timestamp": 1712124288498,
     "user": {
      "displayName": "Nitish Patil",
      "userId": "09015625618145133422"
     },
     "user_tz": -330
    },
    "id": "JJ9eomi5iyGr",
    "outputId": "c9e5b661-17b7-4a3f-b63d-8b0b4df9da41"
   },
   "outputs": [
    {
     "name": "stdout",
     "output_type": "stream",
     "text": [
      "15\n"
     ]
    }
   ],
   "source": [
    "s1= \"aaft aaft aaft sods\"\n",
    "y=s1.find(\"sods\")\n",
    "print(y)"
   ]
  },
  {
   "cell_type": "code",
   "execution_count": 3,
   "metadata": {
    "colab": {
     "base_uri": "https://localhost:8080/"
    },
    "executionInfo": {
     "elapsed": 5,
     "status": "ok",
     "timestamp": 1712124333443,
     "user": {
      "displayName": "Nitish Patil",
      "userId": "09015625618145133422"
     },
     "user_tz": -330
    },
    "id": "FXKSphsUj1hj",
    "outputId": "21fc7a45-7530-426e-9c7f-e14cba6bcce2"
   },
   "outputs": [
    {
     "name": "stdout",
     "output_type": "stream",
     "text": [
      "-1\n"
     ]
    }
   ],
   "source": [
    "s1= \"aaft aaft aaft sods\"\n",
    "y=s1.find(\"soa\")\n",
    "print(y)"
   ]
  },
  {
   "cell_type": "code",
   "execution_count": 4,
   "metadata": {
    "colab": {
     "base_uri": "https://localhost:8080/"
    },
    "executionInfo": {
     "elapsed": 4,
     "status": "ok",
     "timestamp": 1712124550656,
     "user": {
      "displayName": "Nitish Patil",
      "userId": "09015625618145133422"
     },
     "user_tz": -330
    },
    "id": "MhDlTi8mkAfo",
    "outputId": "e64eca22-c3f8-4c3a-bd26-6f142d8b6817"
   },
   "outputs": [
    {
     "name": "stdout",
     "output_type": "stream",
     "text": [
      "('Python is ', 'case', ' sensitive language')\n"
     ]
    }
   ],
   "source": [
    "s2=\"Python is case sensitive language\"\n",
    "z=s2.partition(\"case\")\n",
    "print(z)"
   ]
  },
  {
   "cell_type": "code",
   "execution_count": 5,
   "metadata": {
    "colab": {
     "base_uri": "https://localhost:8080/"
    },
    "executionInfo": {
     "elapsed": 6,
     "status": "ok",
     "timestamp": 1712124767490,
     "user": {
      "displayName": "Nitish Patil",
      "userId": "09015625618145133422"
     },
     "user_tz": -330
    },
    "id": "KalP3l3dk1iU",
    "outputId": "dc7e1b9a-218a-4ba3-e54f-17943bebd4b0"
   },
   "outputs": [
    {
     "name": "stdout",
     "output_type": "stream",
     "text": [
      "['Python', 'is', 'case', 'sensitive', 'language']\n"
     ]
    }
   ],
   "source": [
    "s2=\"Python is case sensitive language\"\n",
    "z=s2.split()\n",
    "print(z)"
   ]
  },
  {
   "cell_type": "code",
   "execution_count": null,
   "metadata": {
    "colab": {
     "base_uri": "https://localhost:8080/"
    },
    "executionInfo": {
     "elapsed": 448,
     "status": "ok",
     "timestamp": 1712125779184,
     "user": {
      "displayName": "Nitish Patil",
      "userId": "09015625618145133422"
     },
     "user_tz": -330
    },
    "id": "f9pGalstlqku",
    "outputId": "647fa1c0-eb4c-47c0-8a4f-76191f0f553d"
   },
   "outputs": [
    {
     "name": "stdout",
     "output_type": "stream",
     "text": [
      "John,Peter,Vicky\n"
     ]
    }
   ],
   "source": [
    "myTuple = (\"John\", \"Peter\", \"Vicky\")\n",
    "\n",
    "x = \",\".join(myTuple)\n",
    "print(x)"
   ]
  },
  {
   "cell_type": "code",
   "execution_count": null,
   "metadata": {
    "id": "ilgj2ddWpdNT"
   },
   "outputs": [],
   "source": []
  }
 ],
 "metadata": {
  "colab": {
   "authorship_tag": "ABX9TyMYeAPupGoJ3NPmoZlycfn4",
   "provenance": []
  },
  "kernelspec": {
   "display_name": "Python 3",
   "name": "python3"
  },
  "language_info": {
   "name": "python"
  }
 },
 "nbformat": 4,
 "nbformat_minor": 0
}
